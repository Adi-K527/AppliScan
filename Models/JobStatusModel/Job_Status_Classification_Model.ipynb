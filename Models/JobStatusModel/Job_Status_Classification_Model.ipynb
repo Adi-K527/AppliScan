{
  "cells": [
    {
      "cell_type": "markdown",
      "metadata": {
        "id": "4JLbLMerliwh"
      },
      "source": [
        "# Job Status Classification Model"
      ]
    },
    {
      "cell_type": "markdown",
      "metadata": {
        "id": "2vy28wSlmrBA"
      },
      "source": [
        "Will create a text classification model which classifies job-related emails as either rejection, just-applied, or action-needed.\n",
        "\n",
        "</br>\n",
        "\n",
        "- Import libraries and data\n",
        "  - Import all libraries and dependencies\n",
        "  - Read dataset\n",
        "  - Download word embeddings\n",
        "- Perform Exploratory Data Analysis (EDA)\n",
        "  - Visualize class distribution\n",
        "  - Examine word count per document\n",
        "  - View most common words\n",
        "- Preprocess the data\n",
        "  - Clean dataset\n",
        "  - TFIDF Vectorization\n",
        "  - PCA\n",
        "  - SMOTE\n",
        "- Create and train the model\n",
        "  - Train/Val/Test split\n",
        "  - K-Folds Cross Validation\n",
        "  - Evaluate multiple models\n",
        "  - Explore Deep learning models using word embeddings\n",
        "  - Tune hyperparameters\n",
        "- Evaluate the final model\n",
        "  - Evaluate on test data\n",
        "  - Calculate precision, recall, F1 scores\n",
        "  - Plot confusion matrix\n",
        "- Save model\n",
        "  - Create Scikit-learn pipeline for model\n",
        "  - save final model\n",
        "\n",
        "\n",
        "</br></br>\n",
        "\n",
        "---"
      ]
    },
    {
      "cell_type": "markdown",
      "metadata": {
        "id": "iW6MtBEHnJpL"
      },
      "source": [
        "### Import Libraries and Data"
      ]
    },
    {
      "cell_type": "code",
      "execution_count": 1,
      "metadata": {
        "id": "cZEQ6S0RnGQ_"
      },
      "outputs": [],
      "source": [
        "import pandas as pd\n",
        "import numpy as np\n",
        "import matplotlib.pyplot as plt\n",
        "import spacy\n",
        "import nltk\n",
        "import re\n",
        "import torch\n",
        "import torch.nn as nn\n",
        "import torch.nn.functional as F\n",
        "from sklearn.model_selection import train_test_split\n",
        "from sklearn.feature_extraction.text import TfidfVectorizer\n",
        "from sklearn.naive_bayes import MultinomialNB\n",
        "from sklearn.metrics import f1_score\n",
        "from sklearn.metrics import accuracy_score\n",
        "from sklearn.metrics import classification_report\n",
        "from sklearn.metrics import confusion_matrix\n",
        "from sklearn.metrics import accuracy_score\n",
        "from collections import Counter\n",
        "from nltk.corpus import stopwords\n",
        "from gensim.models.keyedvectors import KeyedVectors\n",
        "from sklearn import svm\n",
        "from sklearn.linear_model import LogisticRegression\n",
        "from xgboost import XGBClassifier\n",
        "from sklearn.neighbors import KNeighborsClassifier\n",
        "from sklearn.decomposition import PCA\n",
        "from sklearn.discriminant_analysis import LinearDiscriminantAnalysis\n",
        "from sklearn.linear_model import SGDClassifier\n",
        "from sklearn.ensemble import AdaBoostClassifier\n",
        "from sklearn.ensemble import RandomForestClassifier\n",
        "from sklearn.model_selection import cross_val_score\n",
        "from sklearn.model_selection import KFold\n",
        "from sklearn.model_selection import StratifiedKFold\n",
        "from hyperopt import hp\n",
        "from hyperopt.pyll.stochastic import sample\n",
        "from hyperopt import rand, tpe\n",
        "from hyperopt import Trials\n",
        "from hyperopt import fmin\n",
        "from imblearn.over_sampling import SMOTE\n",
        "from sklearn.pipeline import Pipeline\n",
        "from sklearn.metrics import roc_curve, roc_auc_score\n",
        "from sklearn.preprocessing import FunctionTransformer\n",
        "import joblib\n",
        "import pickle\n",
        "from mlxtend.preprocessing import DenseTransformer"
      ]
    },
    {
      "cell_type": "code",
      "execution_count": 2,
      "metadata": {
        "id": "pzT20Gz7njm6"
      },
      "outputs": [],
      "source": [
        "corpus = pd.read_csv(\"Email-Data.csv\")"
      ]
    },
    {
      "cell_type": "code",
      "execution_count": null,
      "metadata": {
        "id": "ZA-s3ij6lvHe"
      },
      "outputs": [],
      "source": [
        "!pip install gdown==4.5.4 --no-cache-dir"
      ]
    },
    {
      "cell_type": "code",
      "execution_count": 4,
      "metadata": {
        "colab": {
          "base_uri": "https://localhost:8080/"
        },
        "id": "TP1Us8RHAg8E",
        "outputId": "c1e2b1aa-be48-4676-ea3e-574e6796b522"
      },
      "outputs": [
        {
          "name": "stdout",
          "output_type": "stream",
          "text": [
            "Downloading...\n",
            "From: https://drive.google.com/uc?id=1BpfbHu4denceXiv8yfdY3EHgjKIcULku\n",
            "To: /content/GoogleNews-vectors-negative300.bin.gz\n",
            "100% 1.65G/1.65G [00:41<00:00, 39.9MB/s]\n"
          ]
        }
      ],
      "source": [
        "#File for word embeddings\n",
        "!gdown \"https://drive.google.com/uc?id=1BpfbHu4denceXiv8yfdY3EHgjKIcULku\"\n",
        "embedding_file = './GoogleNews-vectors-negative300.bin.gz'"
      ]
    },
    {
      "cell_type": "code",
      "execution_count": 5,
      "metadata": {
        "colab": {
          "base_uri": "https://localhost:8080/"
        },
        "id": "soYd4cHp_JFF",
        "outputId": "73de44ca-efce-4355-aee9-4642440b4177"
      },
      "outputs": [
        {
          "name": "stderr",
          "output_type": "stream",
          "text": [
            "[nltk_data] Downloading package stopwords to /root/nltk_data...\n",
            "[nltk_data]   Unzipping corpora/stopwords.zip.\n"
          ]
        }
      ],
      "source": [
        "nltk.download('stopwords')\n",
        "stop_words = set(stopwords.words('english'))"
      ]
    },
    {
      "cell_type": "markdown",
      "metadata": {
        "id": "1jqbOn1nA9RL"
      },
      "source": [
        "</br></br>\n",
        "\n",
        "---"
      ]
    },
    {
      "cell_type": "markdown",
      "metadata": {
        "id": "fbuK16_UnnfV"
      },
      "source": [
        "\n",
        "\n",
        "### EDA"
      ]
    },
    {
      "cell_type": "markdown",
      "metadata": {
        "id": "Pa1kzC959fcl"
      },
      "source": [
        "Will get a better sense of the data by visualizing:\n",
        "- Examples of the data per status class\n",
        "- Status class distribution\n",
        "- Word/Character counts per document\n",
        "- Common Words per status class"
      ]
    },
    {
      "cell_type": "code",
      "execution_count": 6,
      "metadata": {
        "colab": {
          "base_uri": "https://localhost:8080/",
          "height": 206
        },
        "id": "6-OrymianmdB",
        "outputId": "40d2dc49-3b39-468b-f354-617e1210830e"
      },
      "outputs": [
        {
          "data": {
            "application/vnd.google.colaboratory.intrinsic+json": {
              "summary": "{\n  \"name\": \"corpus\",\n  \"rows\": 399,\n  \"fields\": [\n    {\n      \"column\": \"Email\",\n      \"properties\": {\n        \"dtype\": \"string\",\n        \"num_unique_values\": 397,\n        \"samples\": [\n          \"You've just been invited by someone from Databricks to take Databricks CodeSignal Assessment (General Coding Framework).\\n\\n\\n\\nTo begin, please click the link below.\\n\\n\\n\\nCodeSignal FAQ:\\n\\n- Your scores will be shared automatically, you do not need to confirm that you completed the assessment. We will not be able to respond to emails requesting confirmation that your score was received.\\n\\n- For any technical difficulties, please contact support@codesignal.com - this includes internet connectivity issues or difficulties sharing your score.\\n\\n- It is very important that you use the same email address for all applications, assessments, and emails to our team. If you took the coding assessment using a different email address than the one you applied with, we cannot merge accounts. Please contact support@codesignal.com for help with this issue.\\n\\n- We unfortunately cannot accept non-proctored versions of CodeSignal. If you have taken a non-proctored version, you will need to take the proctored assessment.\\n\\n- To prepare, we recommend brushing up on core coding concepts like string/array manipulation, trees, hashmaps, etc. You may practice on CodeSignal by visiting this link: https://codesignal.com/developers/interview-practice/.\\n\\n- If you need additional accommodations for your CodeSignal test, please contact universityrecruiting@databricks.com\\n\\n\\n\\nPlease note that completing CodeSignal is optional. Databricks takes a holistic and individual approach when reviewing candidates' completed applications. While candidates may choose to take the CodeSignal assessment for consideration with their application, Databricks does not have a specific recommendation regarding an applicant's decision to apply with our without completing CodeSignal.\\n\\nYou can take the assessment at your convenience before August 15th, 1:26 pm PDT using the link below. We recommend getting familiar with the CodeSignal platform before you take the assessment. After you create a CodeSignal account, you will have access to a practice test. We\\u2019ve also put together these tips for preparing to take a coding assessment.\\nTAKE THE PRE-SCREEN\\nOur platform is best experienced using the latest version of Chrome, Firefox, or Edge on a laptop or desktop device.\\nGood luck!\\n- Databricks\\nSent from Databricks through CodeSignal.\\n\\nQuestions? Check out our Help Center.\",\n          \"I just submitted course grades on Galaxy.  They should be available shortly.  If you have any questions or concerns about your final grade, please reach out.\\n\\nThank you for your hard work this semester, and I hope you enjoy a well-deserved break!\\n\\nFinally, there are only 3 hours left:  PLEASE EVALUATE THE COURSE\\n\\nCheers,\\nName Person\",\n          \"Support resources for developers at all levels\\n\\nHow's it going? If you're a little lost, don't worry.\\n\\nGet the directions you need \\u2014 from free community resources to premium support:\\n\\n    Search our award-winning documentation to go deep on all aspects of our SDKs and APIs.\\n    See step-by-step tutorials to get you started or take your project to the next level.\\n    Join the conversation on Stack Overflow to find answers from developers and Mapbox support engineers.\\n    Tweet @mapboxsupport for helpful responses and less-helpful gifs.\\n\\nNeed a bit more?\\n\\n    Pay-as-you-go email support with guaranteed response times and no contracts or commitments: Subscribe in your account\\n    Faster response and dedicated technical account management: See Business and Premium plan SLAs.\\n\\n    We can't wait to see what you build!\\n    - Mapbox Support team\\n\"\n        ],\n        \"semantic_type\": \"\",\n        \"description\": \"\"\n      }\n    },\n    {\n      \"column\": \"Company\",\n      \"properties\": {\n        \"dtype\": \"category\",\n        \"num_unique_values\": 180,\n        \"samples\": [\n          \"DiversityInc \",\n          \"BluJay Solutions\",\n          \"Credit Karma\"\n        ],\n        \"semantic_type\": \"\",\n        \"description\": \"\"\n      }\n    },\n    {\n      \"column\": \"Status\",\n      \"properties\": {\n        \"dtype\": \"category\",\n        \"num_unique_values\": 4,\n        \"samples\": [\n          \"action_needed\",\n          \"not_job_related\",\n          \"reject\"\n        ],\n        \"semantic_type\": \"\",\n        \"description\": \"\"\n      }\n    },\n    {\n      \"column\": \"Job_Related\",\n      \"properties\": {\n        \"dtype\": \"category\",\n        \"num_unique_values\": 2,\n        \"samples\": [\n          \"No\",\n          \"Yes\"\n        ],\n        \"semantic_type\": \"\",\n        \"description\": \"\"\n      }\n    }\n  ]\n}",
              "type": "dataframe",
              "variable_name": "corpus"
            },
            "text/html": [
              "\n",
              "  <div id=\"df-17c7fa9f-167d-42ed-b865-108c5c870cca\" class=\"colab-df-container\">\n",
              "    <div>\n",
              "<style scoped>\n",
              "    .dataframe tbody tr th:only-of-type {\n",
              "        vertical-align: middle;\n",
              "    }\n",
              "\n",
              "    .dataframe tbody tr th {\n",
              "        vertical-align: top;\n",
              "    }\n",
              "\n",
              "    .dataframe thead th {\n",
              "        text-align: right;\n",
              "    }\n",
              "</style>\n",
              "<table border=\"1\" class=\"dataframe\">\n",
              "  <thead>\n",
              "    <tr style=\"text-align: right;\">\n",
              "      <th></th>\n",
              "      <th>Email</th>\n",
              "      <th>Company</th>\n",
              "      <th>Status</th>\n",
              "      <th>Job_Related</th>\n",
              "    </tr>\n",
              "  </thead>\n",
              "  <tbody>\n",
              "    <tr>\n",
              "      <th>0</th>\n",
              "      <td>Thank you for applying to the Junior Software ...</td>\n",
              "      <td>MSC Technology</td>\n",
              "      <td>reject</td>\n",
              "      <td>Yes</td>\n",
              "    </tr>\n",
              "    <tr>\n",
              "      <th>1</th>\n",
              "      <td>Thank you for your interest in the Train To Hi...</td>\n",
              "      <td>Train To Hire</td>\n",
              "      <td>reject</td>\n",
              "      <td>Yes</td>\n",
              "    </tr>\n",
              "    <tr>\n",
              "      <th>2</th>\n",
              "      <td>Thank you for your interest in Exyn and for ap...</td>\n",
              "      <td>Exyn</td>\n",
              "      <td>reject</td>\n",
              "      <td>Yes</td>\n",
              "    </tr>\n",
              "    <tr>\n",
              "      <th>3</th>\n",
              "      <td>Thank you for your interest in the Software En...</td>\n",
              "      <td>Lantana Consulting Group</td>\n",
              "      <td>reject</td>\n",
              "      <td>Yes</td>\n",
              "    </tr>\n",
              "    <tr>\n",
              "      <th>4</th>\n",
              "      <td>Thank you for your interest in PathAI! Unfortu...</td>\n",
              "      <td>PathAI</td>\n",
              "      <td>reject</td>\n",
              "      <td>Yes</td>\n",
              "    </tr>\n",
              "  </tbody>\n",
              "</table>\n",
              "</div>\n",
              "    <div class=\"colab-df-buttons\">\n",
              "\n",
              "  <div class=\"colab-df-container\">\n",
              "    <button class=\"colab-df-convert\" onclick=\"convertToInteractive('df-17c7fa9f-167d-42ed-b865-108c5c870cca')\"\n",
              "            title=\"Convert this dataframe to an interactive table.\"\n",
              "            style=\"display:none;\">\n",
              "\n",
              "  <svg xmlns=\"http://www.w3.org/2000/svg\" height=\"24px\" viewBox=\"0 -960 960 960\">\n",
              "    <path d=\"M120-120v-720h720v720H120Zm60-500h600v-160H180v160Zm220 220h160v-160H400v160Zm0 220h160v-160H400v160ZM180-400h160v-160H180v160Zm440 0h160v-160H620v160ZM180-180h160v-160H180v160Zm440 0h160v-160H620v160Z\"/>\n",
              "  </svg>\n",
              "    </button>\n",
              "\n",
              "  <style>\n",
              "    .colab-df-container {\n",
              "      display:flex;\n",
              "      gap: 12px;\n",
              "    }\n",
              "\n",
              "    .colab-df-convert {\n",
              "      background-color: #E8F0FE;\n",
              "      border: none;\n",
              "      border-radius: 50%;\n",
              "      cursor: pointer;\n",
              "      display: none;\n",
              "      fill: #1967D2;\n",
              "      height: 32px;\n",
              "      padding: 0 0 0 0;\n",
              "      width: 32px;\n",
              "    }\n",
              "\n",
              "    .colab-df-convert:hover {\n",
              "      background-color: #E2EBFA;\n",
              "      box-shadow: 0px 1px 2px rgba(60, 64, 67, 0.3), 0px 1px 3px 1px rgba(60, 64, 67, 0.15);\n",
              "      fill: #174EA6;\n",
              "    }\n",
              "\n",
              "    .colab-df-buttons div {\n",
              "      margin-bottom: 4px;\n",
              "    }\n",
              "\n",
              "    [theme=dark] .colab-df-convert {\n",
              "      background-color: #3B4455;\n",
              "      fill: #D2E3FC;\n",
              "    }\n",
              "\n",
              "    [theme=dark] .colab-df-convert:hover {\n",
              "      background-color: #434B5C;\n",
              "      box-shadow: 0px 1px 3px 1px rgba(0, 0, 0, 0.15);\n",
              "      filter: drop-shadow(0px 1px 2px rgba(0, 0, 0, 0.3));\n",
              "      fill: #FFFFFF;\n",
              "    }\n",
              "  </style>\n",
              "\n",
              "    <script>\n",
              "      const buttonEl =\n",
              "        document.querySelector('#df-17c7fa9f-167d-42ed-b865-108c5c870cca button.colab-df-convert');\n",
              "      buttonEl.style.display =\n",
              "        google.colab.kernel.accessAllowed ? 'block' : 'none';\n",
              "\n",
              "      async function convertToInteractive(key) {\n",
              "        const element = document.querySelector('#df-17c7fa9f-167d-42ed-b865-108c5c870cca');\n",
              "        const dataTable =\n",
              "          await google.colab.kernel.invokeFunction('convertToInteractive',\n",
              "                                                    [key], {});\n",
              "        if (!dataTable) return;\n",
              "\n",
              "        const docLinkHtml = 'Like what you see? Visit the ' +\n",
              "          '<a target=\"_blank\" href=https://colab.research.google.com/notebooks/data_table.ipynb>data table notebook</a>'\n",
              "          + ' to learn more about interactive tables.';\n",
              "        element.innerHTML = '';\n",
              "        dataTable['output_type'] = 'display_data';\n",
              "        await google.colab.output.renderOutput(dataTable, element);\n",
              "        const docLink = document.createElement('div');\n",
              "        docLink.innerHTML = docLinkHtml;\n",
              "        element.appendChild(docLink);\n",
              "      }\n",
              "    </script>\n",
              "  </div>\n",
              "\n",
              "\n",
              "<div id=\"df-bb8a64c1-21cd-4438-937d-f9dd815af091\">\n",
              "  <button class=\"colab-df-quickchart\" onclick=\"quickchart('df-bb8a64c1-21cd-4438-937d-f9dd815af091')\"\n",
              "            title=\"Suggest charts\"\n",
              "            style=\"display:none;\">\n",
              "\n",
              "<svg xmlns=\"http://www.w3.org/2000/svg\" height=\"24px\"viewBox=\"0 0 24 24\"\n",
              "     width=\"24px\">\n",
              "    <g>\n",
              "        <path d=\"M19 3H5c-1.1 0-2 .9-2 2v14c0 1.1.9 2 2 2h14c1.1 0 2-.9 2-2V5c0-1.1-.9-2-2-2zM9 17H7v-7h2v7zm4 0h-2V7h2v10zm4 0h-2v-4h2v4z\"/>\n",
              "    </g>\n",
              "</svg>\n",
              "  </button>\n",
              "\n",
              "<style>\n",
              "  .colab-df-quickchart {\n",
              "      --bg-color: #E8F0FE;\n",
              "      --fill-color: #1967D2;\n",
              "      --hover-bg-color: #E2EBFA;\n",
              "      --hover-fill-color: #174EA6;\n",
              "      --disabled-fill-color: #AAA;\n",
              "      --disabled-bg-color: #DDD;\n",
              "  }\n",
              "\n",
              "  [theme=dark] .colab-df-quickchart {\n",
              "      --bg-color: #3B4455;\n",
              "      --fill-color: #D2E3FC;\n",
              "      --hover-bg-color: #434B5C;\n",
              "      --hover-fill-color: #FFFFFF;\n",
              "      --disabled-bg-color: #3B4455;\n",
              "      --disabled-fill-color: #666;\n",
              "  }\n",
              "\n",
              "  .colab-df-quickchart {\n",
              "    background-color: var(--bg-color);\n",
              "    border: none;\n",
              "    border-radius: 50%;\n",
              "    cursor: pointer;\n",
              "    display: none;\n",
              "    fill: var(--fill-color);\n",
              "    height: 32px;\n",
              "    padding: 0;\n",
              "    width: 32px;\n",
              "  }\n",
              "\n",
              "  .colab-df-quickchart:hover {\n",
              "    background-color: var(--hover-bg-color);\n",
              "    box-shadow: 0 1px 2px rgba(60, 64, 67, 0.3), 0 1px 3px 1px rgba(60, 64, 67, 0.15);\n",
              "    fill: var(--button-hover-fill-color);\n",
              "  }\n",
              "\n",
              "  .colab-df-quickchart-complete:disabled,\n",
              "  .colab-df-quickchart-complete:disabled:hover {\n",
              "    background-color: var(--disabled-bg-color);\n",
              "    fill: var(--disabled-fill-color);\n",
              "    box-shadow: none;\n",
              "  }\n",
              "\n",
              "  .colab-df-spinner {\n",
              "    border: 2px solid var(--fill-color);\n",
              "    border-color: transparent;\n",
              "    border-bottom-color: var(--fill-color);\n",
              "    animation:\n",
              "      spin 1s steps(1) infinite;\n",
              "  }\n",
              "\n",
              "  @keyframes spin {\n",
              "    0% {\n",
              "      border-color: transparent;\n",
              "      border-bottom-color: var(--fill-color);\n",
              "      border-left-color: var(--fill-color);\n",
              "    }\n",
              "    20% {\n",
              "      border-color: transparent;\n",
              "      border-left-color: var(--fill-color);\n",
              "      border-top-color: var(--fill-color);\n",
              "    }\n",
              "    30% {\n",
              "      border-color: transparent;\n",
              "      border-left-color: var(--fill-color);\n",
              "      border-top-color: var(--fill-color);\n",
              "      border-right-color: var(--fill-color);\n",
              "    }\n",
              "    40% {\n",
              "      border-color: transparent;\n",
              "      border-right-color: var(--fill-color);\n",
              "      border-top-color: var(--fill-color);\n",
              "    }\n",
              "    60% {\n",
              "      border-color: transparent;\n",
              "      border-right-color: var(--fill-color);\n",
              "    }\n",
              "    80% {\n",
              "      border-color: transparent;\n",
              "      border-right-color: var(--fill-color);\n",
              "      border-bottom-color: var(--fill-color);\n",
              "    }\n",
              "    90% {\n",
              "      border-color: transparent;\n",
              "      border-bottom-color: var(--fill-color);\n",
              "    }\n",
              "  }\n",
              "</style>\n",
              "\n",
              "  <script>\n",
              "    async function quickchart(key) {\n",
              "      const quickchartButtonEl =\n",
              "        document.querySelector('#' + key + ' button');\n",
              "      quickchartButtonEl.disabled = true;  // To prevent multiple clicks.\n",
              "      quickchartButtonEl.classList.add('colab-df-spinner');\n",
              "      try {\n",
              "        const charts = await google.colab.kernel.invokeFunction(\n",
              "            'suggestCharts', [key], {});\n",
              "      } catch (error) {\n",
              "        console.error('Error during call to suggestCharts:', error);\n",
              "      }\n",
              "      quickchartButtonEl.classList.remove('colab-df-spinner');\n",
              "      quickchartButtonEl.classList.add('colab-df-quickchart-complete');\n",
              "    }\n",
              "    (() => {\n",
              "      let quickchartButtonEl =\n",
              "        document.querySelector('#df-bb8a64c1-21cd-4438-937d-f9dd815af091 button');\n",
              "      quickchartButtonEl.style.display =\n",
              "        google.colab.kernel.accessAllowed ? 'block' : 'none';\n",
              "    })();\n",
              "  </script>\n",
              "</div>\n",
              "\n",
              "    </div>\n",
              "  </div>\n"
            ],
            "text/plain": [
              "                                               Email  \\\n",
              "0  Thank you for applying to the Junior Software ...   \n",
              "1  Thank you for your interest in the Train To Hi...   \n",
              "2  Thank you for your interest in Exyn and for ap...   \n",
              "3  Thank you for your interest in the Software En...   \n",
              "4  Thank you for your interest in PathAI! Unfortu...   \n",
              "\n",
              "                    Company  Status Job_Related  \n",
              "0            MSC Technology  reject         Yes  \n",
              "1             Train To Hire  reject         Yes  \n",
              "2                      Exyn  reject         Yes  \n",
              "3  Lantana Consulting Group  reject         Yes  \n",
              "4                    PathAI  reject         Yes  "
            ]
          },
          "execution_count": 6,
          "metadata": {},
          "output_type": "execute_result"
        }
      ],
      "source": [
        "corpus.head(5)"
      ]
    },
    {
      "cell_type": "code",
      "execution_count": 7,
      "metadata": {
        "colab": {
          "base_uri": "https://localhost:8080/"
        },
        "id": "aHVezTSBn3xy",
        "outputId": "b19b4978-125f-468c-fba9-329557d88e84"
      },
      "outputs": [
        {
          "name": "stdout",
          "output_type": "stream",
          "text": [
            "Reject: \n",
            "----------------------\n",
            " Thank you for applying to the Junior Software Developer position at MSC Technology.\n",
            "Unfortunately, MSC Technology has moved to the next step in their hiring process, and your application was not selected at this time. \n",
            "\n",
            "\n",
            "\n",
            "Action Needed: \n",
            "----------------------\n",
            " As part of your application to Entry Level Back End Developer: 2021, we recently invited you to complete our Coding Assessment.\n",
            "\n",
            "We wanted to let you know that your responses have been received and are being considered, along with other information from your application process, to determine next steps. These next steps may include being invited to complete another assessment or invitation to an interview.\n",
            "\n",
            "Please note that if you did not just complete an assessment, this means that your responses were returned from a prior application to IBM and completion of the same assessment. As your assessment responses remain valid for 12 months, there is no need to retake this assessment at this time.\n",
            "\n",
            "IBM Assessment Team \n",
            "\n",
            "\n",
            "\n",
            "Just Applied: \n",
            "----------------------\n",
            " Thank you for submitting your application for the position of Junior Software Engineer. We just wanted to let you know that your application has reached us safely.\n",
            "\n",
            "We're currently reviewing and evaluating your application. We'd like to thank you for your interest in career opportunities at Swiss Re.\n",
            "\n",
            "Kind regards,\n",
            "Swiss Re Recruiting Team \n",
            "\n",
            "\n",
            "\n"
          ]
        }
      ],
      "source": [
        "print(\"Reject: \\n----------------------\\n\",\n",
        "      corpus[corpus['Status'] == 'reject']['Email'].iloc[0],\n",
        "      \"\\n\\n\\n\")\n",
        "\n",
        "print(\"Action Needed: \\n----------------------\\n\",\n",
        "      corpus[corpus['Status'] == 'action_needed']['Email'].iloc[0],\n",
        "      \"\\n\\n\\n\")\n",
        "\n",
        "print(\"Just Applied: \\n----------------------\\n\",\n",
        "      corpus[corpus['Status'] == 'just_applied']['Email'].iloc[0],\n",
        "      \"\\n\\n\\n\")"
      ]
    },
    {
      "cell_type": "code",
      "execution_count": 8,
      "metadata": {
        "colab": {
          "base_uri": "https://localhost:8080/",
          "height": 428
        },
        "id": "IJmLyC8LoodE",
        "outputId": "acb60f07-daee-4d2c-db2a-e9a89daf5f4a"
      },
      "outputs": [
        {
          "data": {
            "image/png": "[encoded data removed]",
            "text/plain": [
              "<Figure size 640x480 with 1 Axes>"
            ]
          },
          "metadata": {},
          "output_type": "display_data"
        }
      ],
      "source": [
        "nj, rej, apl, act  = corpus['Status'].value_counts().values\n",
        "plt.pie(labels=[\"Reject\", \"Action Needed\", \"Just Applied\"],\n",
        "                     x=[rej, act, apl], autopct='%1.1f%%');\n",
        "plt.title(\"Counts by Label\");"
      ]
    },
    {
      "cell_type": "markdown",
      "metadata": {
        "id": "mREIoRS0pXcP"
      },
      "source": [
        "*Significantly fewer number of \"Action Needed\" emails suggesting a highly imbalanced dataset.*\n",
        "\n",
        "</br></br>"
      ]
    },
    {
      "cell_type": "code",
      "execution_count": 9,
      "metadata": {
        "id": "R5R_70cLurGO"
      },
      "outputs": [],
      "source": [
        "count_words = lambda x: len(x.split())\n",
        "word_lengths = lambda x: np.mean([len(s) for s in x.split()])\n",
        "\n",
        "doc_lengths = corpus['Email'].apply(len).values\n",
        "doc_words = corpus['Email'].apply(count_words).values\n",
        "\n",
        "rej_df = corpus[corpus['Status'] == 'reject']\n",
        "rej_len = rej_df['Email'].apply(len).values\n",
        "rej_words = rej_df['Email'].apply(count_words).values\n",
        "rej_wlen = rej_df['Email'].apply(word_lengths).values\n",
        "\n",
        "act_df = corpus[corpus['Status'] == 'action_needed']\n",
        "act_len = act_df['Email'].apply(len).values\n",
        "act_words = act_df['Email'].apply(count_words).values\n",
        "act_wlen = act_df['Email'].apply(word_lengths).values\n",
        "\n",
        "ja_df = corpus[corpus['Status'] == 'just_applied']\n",
        "ja_len = ja_df['Email'].apply(len).values\n",
        "ja_words = ja_df['Email'].apply(count_words).values\n",
        "ja_wlen = ja_df['Email'].apply(word_lengths).values"
      ]
    },
    {
      "cell_type": "code",
      "execution_count": 10,
      "metadata": {
        "colab": {
          "base_uri": "https://localhost:8080/",
          "height": 807
        },
        "id": "1-zLdAW2pVaE",
        "outputId": "5afc9a0e-6313-49da-9cc3-f0e7b140dada"
      },
      "outputs": [
        {
          "data": {
            "image/png": "[encoded data removed]",
            "text/plain": [
              "<Figure size 1000x800 with 4 Axes>"
            ]
          },
          "metadata": {},
          "output_type": "display_data"
        }
      ],
      "source": [
        "plt.figure(figsize=(10, 8))\n",
        "plt.subplot(2, 2, 1)\n",
        "plt.plot(doc_words, color='orange')\n",
        "plt.title('Words per Document')\n",
        "\n",
        "plt.subplot(2, 2, 2)\n",
        "plt.plot(rej_len, color='orange', label='Rejected')\n",
        "plt.plot(act_len, color='blue', label='Action Needed')\n",
        "plt.plot(ja_len, color='green', label='Just Applied')\n",
        "plt.title('Characters per Document')\n",
        "plt.legend()\n",
        "\n",
        "plt.subplot(2, 2, 3)\n",
        "plt.plot(rej_words, color='orange', label='Rejected')\n",
        "plt.plot(act_words, color='blue', label='Action Needed')\n",
        "plt.plot(ja_words, color='green', label='Just Applied')\n",
        "plt.title('Words per Document')\n",
        "plt.legend()\n",
        "\n",
        "\n",
        "plt.subplot(2, 2, 4)\n",
        "plt.plot(rej_wlen, color='orange', label='Rejected')\n",
        "plt.plot(act_wlen, color='blue', label='Action Needed')\n",
        "plt.plot(ja_wlen, color='green', label='Just Applied')\n",
        "plt.title('Mean Word Length per Document')\n",
        "plt.legend()\n",
        "\n",
        "plt.tight_layout()"
      ]
    },
    {
      "cell_type": "markdown",
      "metadata": {
        "id": "JXVgIYhe-8qg"
      },
      "source": [
        "*Document lengths are highly varied per document and per class.*\n",
        "\n",
        "</br></br>"
      ]
    },
    {
      "cell_type": "code",
      "execution_count": 11,
      "metadata": {
        "id": "6CNBORVz3maN"
      },
      "outputs": [],
      "source": [
        "split_doc = lambda x: [i for i in x.split() if i.lower() not in stop_words]\n",
        "\n",
        "rej_counts = Counter(np.concatenate(rej_df['Email'].apply(split_doc).values))\n",
        "rej_arr = np.array(sorted([(rej_counts[i], i) for i in rej_counts]))[::-1]\n",
        "\n",
        "act_counts = Counter(np.concatenate(act_df['Email'].apply(split_doc).values))\n",
        "act_arr = np.array(sorted([(act_counts[i], i) for i in act_counts]))[::-1]\n",
        "\n",
        "ja_counts = Counter(np.concatenate(ja_df['Email'].apply(split_doc).values))\n",
        "ja_arr = np.array(sorted([(ja_counts[i], i) for i in ja_counts]))[::-1]"
      ]
    },
    {
      "cell_type": "code",
      "execution_count": 12,
      "metadata": {
        "id": "kDGxWI8Jylmi"
      },
      "outputs": [],
      "source": [
        "def get_color():\n",
        "  a = np.zeros((15, 3))\n",
        "  a[:,0] = np.linspace(np.random.rand((1))[0], 1, num=15)[::-1]\n",
        "  a[:,1] = np.linspace(np.random.rand((1))[0], 1, num=15)[::-1]\n",
        "  a[:,2] = np.linspace(np.random.rand((1))[0], 1, num=15)[::-1]\n",
        "  return a"
      ]
    },
    {
      "cell_type": "code",
      "execution_count": 13,
      "metadata": {
        "colab": {
          "base_uri": "https://localhost:8080/",
          "height": 807
        },
        "id": "GhaqSrfU89xo",
        "outputId": "a03ccaa0-f90b-4446-b45b-163bb65e8c48"
      },
      "outputs": [
        {
          "data": {
            "image/png": "[encoded data removed]",
            "text/plain": [
              "<Figure size 1000x800 with 3 Axes>"
            ]
          },
          "metadata": {},
          "output_type": "display_data"
        }
      ],
      "source": [
        "plt.figure(figsize=(10, 8))\n",
        "\n",
        "plt.subplot(2, 2, 1)\n",
        "plt.barh(y=rej_arr[:15:,1][::-1], width=rej_arr[:15:,0][::-1],\n",
        "         color=get_color())\n",
        "plt.title(\"Most Common Words - Reject\")\n",
        "\n",
        "plt.subplot(2, 2, 2)\n",
        "plt.barh(y=act_arr[:15:,1][::-1], width=act_arr[:15:,0][::-1],\n",
        "         color=get_color())\n",
        "plt.title(\"Most Common Words - Action Needed\")\n",
        "\n",
        "plt.subplot(2, 2, 3)\n",
        "plt.barh(y=ja_arr[:15:,1][::-1], width=ja_arr[:15:,0][::-1],\n",
        "         color=get_color())\n",
        "plt.title(\"Most Common Words - Just Applied\")\n",
        "\n",
        "plt.subplots_adjust(wspace=0.5)\n",
        "plt.tight_layout()"
      ]
    },
    {
      "cell_type": "markdown",
      "metadata": {
        "id": "97DJcj57AyFV"
      },
      "source": [
        "</br></br>\n",
        "\n",
        "---"
      ]
    },
    {
      "cell_type": "markdown",
      "metadata": {
        "id": "qrzXcdqFA1Ul"
      },
      "source": [
        "### Preprocessing\n",
        "\n",
        "</br>\n",
        "\n",
        "Preprocessing Pipeline:\n",
        "- Clean dataset (remove uneccessry features, encode labels)\n",
        "- Encode labels in data\n",
        "- Shuffle data\n",
        "- Tokenize Emails\n",
        "- Create embeddings\n",
        "\n",
        "</br>\n",
        "\n",
        "Here is a [useful paper](https://arxiv.org/pdf/1904.08067.pdf)\n"
      ]
    },
    {
      "cell_type": "code",
      "execution_count": 14,
      "metadata": {
        "colab": {
          "base_uri": "https://localhost:8080/"
        },
        "id": "Q3iYvSo3X9mm",
        "outputId": "eb678154-032f-4286-f66a-31f800a3b481"
      },
      "outputs": [
        {
          "name": "stderr",
          "output_type": "stream",
          "text": [
            "<ipython-input-14-89d474967e97>:2: SettingWithCopyWarning: \n",
            "A value is trying to be set on a copy of a slice from a DataFrame\n",
            "\n",
            "See the caveats in the documentation: https://pandas.pydata.org/pandas-docs/stable/user_guide/indexing.html#returning-a-view-versus-a-copy\n",
            "  corpus.drop(['Job_Related', 'Company'], axis=1, inplace=True)\n"
          ]
        }
      ],
      "source": [
        "corpus = corpus[corpus['Job_Related'] == 'Yes']\n",
        "corpus.drop(['Job_Related', 'Company'], axis=1, inplace=True)\n",
        "\n",
        "# Job_Related and Company columns are not needed for this model"
      ]
    },
    {
      "cell_type": "code",
      "execution_count": 15,
      "metadata": {
        "id": "e8IhPiy9km_a"
      },
      "outputs": [],
      "source": [
        "corpus['Status'] = corpus['Status'].replace(to_replace='reject', value=0)\n",
        "corpus['Status'] = corpus['Status'].replace(to_replace='action_needed', value=1)\n",
        "corpus['Status'] = corpus['Status'].replace(to_replace='just_applied', value=2)"
      ]
    },
    {
      "cell_type": "markdown",
      "metadata": {
        "id": "2az05f05kZLI"
      },
      "source": [
        "Encodes labels as: </br></br>\n",
        "0: Reject\\\n",
        "1: Action Needed\\\n",
        "2: Just Applied\n",
        "\n",
        "</br></br>\n"
      ]
    },
    {
      "cell_type": "code",
      "execution_count": 16,
      "metadata": {
        "id": "0iMmOpYMkiJP"
      },
      "outputs": [],
      "source": [
        "#shuffle data\n",
        "np.random.seed(42)\n",
        "corpus = corpus.iloc[np.random.permutation(corpus.index)].reset_index(drop=True)"
      ]
    },
    {
      "cell_type": "code",
      "execution_count": 17,
      "metadata": {
        "colab": {
          "base_uri": "https://localhost:8080/",
          "height": 206
        },
        "id": "tynD0WVelsHA",
        "outputId": "c4a92f49-98a0-44a6-f1df-16251f23b78f"
      },
      "outputs": [
        {
          "data": {
            "application/vnd.google.colaboratory.intrinsic+json": {
              "summary": "{\n  \"name\": \"corpus\",\n  \"rows\": 201,\n  \"fields\": [\n    {\n      \"column\": \"Email\",\n      \"properties\": {\n        \"dtype\": \"string\",\n        \"num_unique_values\": 199,\n        \"samples\": [\n          \"Thanks for applying to the Backend Engineer Intern (Game Services) role. Your application has been received and if your application seems like a good fit for the position we will contact you soon.\\n\\nRegards,\\nEpic Games\\n\\n** Please note: Do not reply to this email. This email is sent from an unattended mailbox. Replies will not be read.\",\n          \"Thank you for submitting your application for the position of Software Engineer, ML / Perception Co-op (Spring 2024). We are currently reviewing applications, and our recruiting team will reach out if your skills and experience are a fit for this role.\\n\\nBest regards,\\nLocus Robotics Hiring Team\",\n          \"Thank you so much for applying! Your application will be taken into careful consideration and you will hear back from us after we review your application.\\n\\nSincerely,\\n\\nQ2 Talent Acquisition\"\n        ],\n        \"semantic_type\": \"\",\n        \"description\": \"\"\n      }\n    },\n    {\n      \"column\": \"Status\",\n      \"properties\": {\n        \"dtype\": \"number\",\n        \"std\": 0,\n        \"min\": 0,\n        \"max\": 2,\n        \"num_unique_values\": 3,\n        \"samples\": [\n          0,\n          2,\n          1\n        ],\n        \"semantic_type\": \"\",\n        \"description\": \"\"\n      }\n    }\n  ]\n}",
              "type": "dataframe",
              "variable_name": "corpus"
            },
            "text/html": [
              "\n",
              "  <div id=\"df-47ba247d-0939-411b-9e5a-ef0744577dbf\" class=\"colab-df-container\">\n",
              "    <div>\n",
              "<style scoped>\n",
              "    .dataframe tbody tr th:only-of-type {\n",
              "        vertical-align: middle;\n",
              "    }\n",
              "\n",
              "    .dataframe tbody tr th {\n",
              "        vertical-align: top;\n",
              "    }\n",
              "\n",
              "    .dataframe thead th {\n",
              "        text-align: right;\n",
              "    }\n",
              "</style>\n",
              "<table border=\"1\" class=\"dataframe\">\n",
              "  <thead>\n",
              "    <tr style=\"text-align: right;\">\n",
              "      <th></th>\n",
              "      <th>Email</th>\n",
              "      <th>Status</th>\n",
              "    </tr>\n",
              "  </thead>\n",
              "  <tbody>\n",
              "    <tr>\n",
              "      <th>0</th>\n",
              "      <td>Thanks for applying to ZipRecruiter! At this t...</td>\n",
              "      <td>0</td>\n",
              "    </tr>\n",
              "    <tr>\n",
              "      <th>1</th>\n",
              "      <td>Thank you for your interest in the iOS Develop...</td>\n",
              "      <td>0</td>\n",
              "    </tr>\n",
              "    <tr>\n",
              "      <th>2</th>\n",
              "      <td>Thank you for giving us the opportunity to con...</td>\n",
              "      <td>0</td>\n",
              "    </tr>\n",
              "    <tr>\n",
              "      <th>3</th>\n",
              "      <td>We've received your application for our Softwa...</td>\n",
              "      <td>2</td>\n",
              "    </tr>\n",
              "    <tr>\n",
              "      <th>4</th>\n",
              "      <td>Thank you for your interest in Scribd! We have...</td>\n",
              "      <td>2</td>\n",
              "    </tr>\n",
              "  </tbody>\n",
              "</table>\n",
              "</div>\n",
              "    <div class=\"colab-df-buttons\">\n",
              "\n",
              "  <div class=\"colab-df-container\">\n",
              "    <button class=\"colab-df-convert\" onclick=\"convertToInteractive('df-47ba247d-0939-411b-9e5a-ef0744577dbf')\"\n",
              "            title=\"Convert this dataframe to an interactive table.\"\n",
              "            style=\"display:none;\">\n",
              "\n",
              "  <svg xmlns=\"http://www.w3.org/2000/svg\" height=\"24px\" viewBox=\"0 -960 960 960\">\n",
              "    <path d=\"M120-120v-720h720v720H120Zm60-500h600v-160H180v160Zm220 220h160v-160H400v160Zm0 220h160v-160H400v160ZM180-400h160v-160H180v160Zm440 0h160v-160H620v160ZM180-180h160v-160H180v160Zm440 0h160v-160H620v160Z\"/>\n",
              "  </svg>\n",
              "    </button>\n",
              "\n",
              "  <style>\n",
              "    .colab-df-container {\n",
              "      display:flex;\n",
              "      gap: 12px;\n",
              "    }\n",
              "\n",
              "    .colab-df-convert {\n",
              "      background-color: #E8F0FE;\n",
              "      border: none;\n",
              "      border-radius: 50%;\n",
              "      cursor: pointer;\n",
              "      display: none;\n",
              "      fill: #1967D2;\n",
              "      height: 32px;\n",
              "      padding: 0 0 0 0;\n",
              "      width: 32px;\n",
              "    }\n",
              "\n",
              "    .colab-df-convert:hover {\n",
              "      background-color: #E2EBFA;\n",
              "      box-shadow: 0px 1px 2px rgba(60, 64, 67, 0.3), 0px 1px 3px 1px rgba(60, 64, 67, 0.15);\n",
              "      fill: #174EA6;\n",
              "    }\n",
              "\n",
              "    .colab-df-buttons div {\n",
              "      margin-bottom: 4px;\n",
              "    }\n",
              "\n",
              "    [theme=dark] .colab-df-convert {\n",
              "      background-color: #3B4455;\n",
              "      fill: #D2E3FC;\n",
              "    }\n",
              "\n",
              "    [theme=dark] .colab-df-convert:hover {\n",
              "      background-color: #434B5C;\n",
              "      box-shadow: 0px 1px 3px 1px rgba(0, 0, 0, 0.15);\n",
              "      filter: drop-shadow(0px 1px 2px rgba(0, 0, 0, 0.3));\n",
              "      fill: #FFFFFF;\n",
              "    }\n",
              "  </style>\n",
              "\n",
              "    <script>\n",
              "      const buttonEl =\n",
              "        document.querySelector('#df-47ba247d-0939-411b-9e5a-ef0744577dbf button.colab-df-convert');\n",
              "      buttonEl.style.display =\n",
              "        google.colab.kernel.accessAllowed ? 'block' : 'none';\n",
              "\n",
              "      async function convertToInteractive(key) {\n",
              "        const element = document.querySelector('#df-47ba247d-0939-411b-9e5a-ef0744577dbf');\n",
              "        const dataTable =\n",
              "          await google.colab.kernel.invokeFunction('convertToInteractive',\n",
              "                                                    [key], {});\n",
              "        if (!dataTable) return;\n",
              "\n",
              "        const docLinkHtml = 'Like what you see? Visit the ' +\n",
              "          '<a target=\"_blank\" href=https://colab.research.google.com/notebooks/data_table.ipynb>data table notebook</a>'\n",
              "          + ' to learn more about interactive tables.';\n",
              "        element.innerHTML = '';\n",
              "        dataTable['output_type'] = 'display_data';\n",
              "        await google.colab.output.renderOutput(dataTable, element);\n",
              "        const docLink = document.createElement('div');\n",
              "        docLink.innerHTML = docLinkHtml;\n",
              "        element.appendChild(docLink);\n",
              "      }\n",
              "    </script>\n",
              "  </div>\n",
              "\n",
              "\n",
              "<div id=\"df-320fef1c-c90c-40bb-aacf-5086cc74dca5\">\n",
              "  <button class=\"colab-df-quickchart\" onclick=\"quickchart('df-320fef1c-c90c-40bb-aacf-5086cc74dca5')\"\n",
              "            title=\"Suggest charts\"\n",
              "            style=\"display:none;\">\n",
              "\n",
              "<svg xmlns=\"http://www.w3.org/2000/svg\" height=\"24px\"viewBox=\"0 0 24 24\"\n",
              "     width=\"24px\">\n",
              "    <g>\n",
              "        <path d=\"M19 3H5c-1.1 0-2 .9-2 2v14c0 1.1.9 2 2 2h14c1.1 0 2-.9 2-2V5c0-1.1-.9-2-2-2zM9 17H7v-7h2v7zm4 0h-2V7h2v10zm4 0h-2v-4h2v4z\"/>\n",
              "    </g>\n",
              "</svg>\n",
              "  </button>\n",
              "\n",
              "<style>\n",
              "  .colab-df-quickchart {\n",
              "      --bg-color: #E8F0FE;\n",
              "      --fill-color: #1967D2;\n",
              "      --hover-bg-color: #E2EBFA;\n",
              "      --hover-fill-color: #174EA6;\n",
              "      --disabled-fill-color: #AAA;\n",
              "      --disabled-bg-color: #DDD;\n",
              "  }\n",
              "\n",
              "  [theme=dark] .colab-df-quickchart {\n",
              "      --bg-color: #3B4455;\n",
              "      --fill-color: #D2E3FC;\n",
              "      --hover-bg-color: #434B5C;\n",
              "      --hover-fill-color: #FFFFFF;\n",
              "      --disabled-bg-color: #3B4455;\n",
              "      --disabled-fill-color: #666;\n",
              "  }\n",
              "\n",
              "  .colab-df-quickchart {\n",
              "    background-color: var(--bg-color);\n",
              "    border: none;\n",
              "    border-radius: 50%;\n",
              "    cursor: pointer;\n",
              "    display: none;\n",
              "    fill: var(--fill-color);\n",
              "    height: 32px;\n",
              "    padding: 0;\n",
              "    width: 32px;\n",
              "  }\n",
              "\n",
              "  .colab-df-quickchart:hover {\n",
              "    background-color: var(--hover-bg-color);\n",
              "    box-shadow: 0 1px 2px rgba(60, 64, 67, 0.3), 0 1px 3px 1px rgba(60, 64, 67, 0.15);\n",
              "    fill: var(--button-hover-fill-color);\n",
              "  }\n",
              "\n",
              "  .colab-df-quickchart-complete:disabled,\n",
              "  .colab-df-quickchart-complete:disabled:hover {\n",
              "    background-color: var(--disabled-bg-color);\n",
              "    fill: var(--disabled-fill-color);\n",
              "    box-shadow: none;\n",
              "  }\n",
              "\n",
              "  .colab-df-spinner {\n",
              "    border: 2px solid var(--fill-color);\n",
              "    border-color: transparent;\n",
              "    border-bottom-color: var(--fill-color);\n",
              "    animation:\n",
              "      spin 1s steps(1) infinite;\n",
              "  }\n",
              "\n",
              "  @keyframes spin {\n",
              "    0% {\n",
              "      border-color: transparent;\n",
              "      border-bottom-color: var(--fill-color);\n",
              "      border-left-color: var(--fill-color);\n",
              "    }\n",
              "    20% {\n",
              "      border-color: transparent;\n",
              "      border-left-color: var(--fill-color);\n",
              "      border-top-color: var(--fill-color);\n",
              "    }\n",
              "    30% {\n",
              "      border-color: transparent;\n",
              "      border-left-color: var(--fill-color);\n",
              "      border-top-color: var(--fill-color);\n",
              "      border-right-color: var(--fill-color);\n",
              "    }\n",
              "    40% {\n",
              "      border-color: transparent;\n",
              "      border-right-color: var(--fill-color);\n",
              "      border-top-color: var(--fill-color);\n",
              "    }\n",
              "    60% {\n",
              "      border-color: transparent;\n",
              "      border-right-color: var(--fill-color);\n",
              "    }\n",
              "    80% {\n",
              "      border-color: transparent;\n",
              "      border-right-color: var(--fill-color);\n",
              "      border-bottom-color: var(--fill-color);\n",
              "    }\n",
              "    90% {\n",
              "      border-color: transparent;\n",
              "      border-bottom-color: var(--fill-color);\n",
              "    }\n",
              "  }\n",
              "</style>\n",
              "\n",
              "  <script>\n",
              "    async function quickchart(key) {\n",
              "      const quickchartButtonEl =\n",
              "        document.querySelector('#' + key + ' button');\n",
              "      quickchartButtonEl.disabled = true;  // To prevent multiple clicks.\n",
              "      quickchartButtonEl.classList.add('colab-df-spinner');\n",
              "      try {\n",
              "        const charts = await google.colab.kernel.invokeFunction(\n",
              "            'suggestCharts', [key], {});\n",
              "      } catch (error) {\n",
              "        console.error('Error during call to suggestCharts:', error);\n",
              "      }\n",
              "      quickchartButtonEl.classList.remove('colab-df-spinner');\n",
              "      quickchartButtonEl.classList.add('colab-df-quickchart-complete');\n",
              "    }\n",
              "    (() => {\n",
              "      let quickchartButtonEl =\n",
              "        document.querySelector('#df-320fef1c-c90c-40bb-aacf-5086cc74dca5 button');\n",
              "      quickchartButtonEl.style.display =\n",
              "        google.colab.kernel.accessAllowed ? 'block' : 'none';\n",
              "    })();\n",
              "  </script>\n",
              "</div>\n",
              "\n",
              "    </div>\n",
              "  </div>\n"
            ],
            "text/plain": [
              "                                               Email  Status\n",
              "0  Thanks for applying to ZipRecruiter! At this t...       0\n",
              "1  Thank you for your interest in the iOS Develop...       0\n",
              "2  Thank you for giving us the opportunity to con...       0\n",
              "3  We've received your application for our Softwa...       2\n",
              "4  Thank you for your interest in Scribd! We have...       2"
            ]
          },
          "execution_count": 17,
          "metadata": {},
          "output_type": "execute_result"
        }
      ],
      "source": [
        "#new data\n",
        "corpus.head()"
      ]
    },
    {
      "cell_type": "markdown",
      "metadata": {
        "id": "upffVKxImGDk"
      },
      "source": [
        "</br></br>\n",
        "\n",
        "Data has been cleaned, now to **tokenize** the emails:\n",
        "\n",
        "- Case folding (make everything same case)\n",
        "- remove non-word text like urls\n",
        "- remove punctuation\n",
        "- remove spaces\n",
        "- remove stop words"
      ]
    },
    {
      "cell_type": "code",
      "execution_count": 18,
      "metadata": {
        "id": "3dss5BgimKwp"
      },
      "outputs": [],
      "source": [
        "nlp = spacy.blank('en')\n",
        "\n",
        "\n",
        "class Preprocessor():\n",
        "  def __init__(self):\n",
        "    self.word_dict = {}\n",
        "    self.words = 0\n",
        "\n",
        "  def preprocess(self, doc):\n",
        "    tokens = [t.lower_ for t in nlp(doc) if\n",
        "                        not t.is_stop and\n",
        "                        not t.is_punct and\n",
        "                        t.is_alpha]\n",
        "\n",
        "    #removes url type strings\n",
        "    reg = re.compile(r'http\\S+|www\\.\\S+|ftp://\\S+')\n",
        "    tokens = [t for t in tokens if not reg.search(t)]\n",
        "\n",
        "    return tokens\n",
        "\n",
        "  def tokenize(self, doc):\n",
        "    for word in doc:\n",
        "      if word not in self.word_dict:\n",
        "        self.word_dict[word] = self.words\n",
        "        self.words += 1\n",
        "\n",
        "    #dictionary of values mapped to a token\n",
        "    return [self.word_dict[word] for word in doc]"
      ]
    },
    {
      "cell_type": "markdown",
      "metadata": {
        "id": "PL11xtXBAszn"
      },
      "source": [
        "</br></br>\n",
        "\n",
        "This `Preprocessor` class will first perform the tokenization strategy defined. It can then map each token to an index and store it into a dictionary, to allow every document to be converted into a numerical representation which will be convenient when using word embeddings."
      ]
    },
    {
      "cell_type": "code",
      "execution_count": 19,
      "metadata": {
        "colab": {
          "base_uri": "https://localhost:8080/"
        },
        "id": "3mPmuKv0BJpb",
        "outputId": "4662fd36-d289-4eb4-ed50-228304de2ae0"
      },
      "outputs": [
        {
          "name": "stdout",
          "output_type": "stream",
          "text": [
            "Tokens:  ['curious', 'cat', 'gracefully', 'leapt', 'sunlit', 'windowsill', 'casting', 'watchful', 'gaze', 'bustling', 'street'] \n",
            "\n",
            "Tokenized:  [0, 1, 2, 3, 4, 5, 6, 7, 8, 9, 10]\n"
          ]
        }
      ],
      "source": [
        "text_preprocessor = Preprocessor()\n",
        "\n",
        "string = \"\"\"The curious cat gracefully leapt\n",
        "            onto the sunlit windowsill, casting a watchful gaze over\n",
        "            the bustling street below.\"\"\"\n",
        "\n",
        "tokens = text_preprocessor.preprocess(string)\n",
        "print('Tokens: ', tokens, '\\n')\n",
        "print('Tokenized: ', text_preprocessor.tokenize(tokens))"
      ]
    },
    {
      "cell_type": "markdown",
      "metadata": {
        "id": "ea9YNDP6A5YW"
      },
      "source": [
        "</br></br>"
      ]
    },
    {
      "cell_type": "code",
      "execution_count": 20,
      "metadata": {
        "id": "S8QuZIeQ_lpR"
      },
      "outputs": [],
      "source": [
        "text_preprocessor = Preprocessor()\n",
        "\n",
        "corpus['Tokens'] = corpus['Email'].apply(text_preprocessor.preprocess)\n",
        "corpus['Tokens'] = corpus['Tokens'].apply(text_preprocessor.tokenize)"
      ]
    },
    {
      "cell_type": "code",
      "execution_count": 21,
      "metadata": {
        "colab": {
          "base_uri": "https://localhost:8080/"
        },
        "id": "-n5RVnQlD5EL",
        "outputId": "2f7e2f73-1d19-4820-afc1-35cbccda8e1d"
      },
      "outputs": [
        {
          "data": {
            "text/plain": [
              "1718"
            ]
          },
          "execution_count": 21,
          "metadata": {},
          "output_type": "execute_result"
        }
      ],
      "source": [
        "len(text_preprocessor.word_dict)"
      ]
    },
    {
      "cell_type": "markdown",
      "metadata": {
        "id": "IAD4ozVsBwOB"
      },
      "source": [
        "This means that there were 1718 distinct tokens that were found in the dataset.\n",
        "\n",
        "</br></br>"
      ]
    },
    {
      "cell_type": "markdown",
      "metadata": {
        "id": "zPeHO9ajB3Rq"
      },
      "source": [
        "Now will use word2vec embeddings, to then convert each token into a 300 length numerical representation. Below is a brief description of word2vec.\n",
        "\n",
        "</br>"
      ]
    },
    {
      "cell_type": "markdown",
      "metadata": {
        "id": "JrsY20e-CU7g"
      },
      "source": [
        "**Embedding**: Collection of things (like movies), then associated with it is a n-dimensional vector, we can say some 5 dimensional vector like this: [action, comedy, drama, horror, romance], each stores vals from 0 to 1 representing degree of each thing. This is basis recomendation engines where you can check cosine similarity of these vectors, or can do some clustering stuff. Ultimately, mapping discrete items, to points in a vector space, but need them meaningful and close together for similarity.\n",
        "\n",
        "</br>\n",
        "\n",
        "**Word2Vec**: Uses Continuous Bag of Words, or the Skip Gram model to generate word embeddings"
      ]
    },
    {
      "cell_type": "code",
      "execution_count": 22,
      "metadata": {
        "id": "3DuCJ7tcAxQv"
      },
      "outputs": [],
      "source": [
        "word_vectors = KeyedVectors.load_word2vec_format(embedding_file,\n",
        "                                      binary=True, limit=200000)"
      ]
    },
    {
      "cell_type": "code",
      "execution_count": 23,
      "metadata": {
        "id": "7vcoCCLbGlrd"
      },
      "outputs": [],
      "source": [
        "embedding_matrix = np.zeros(shape=(len(text_preprocessor.word_dict),\n",
        "                                   word_vectors['hi'].shape[0]))\n",
        "\n",
        "for word, i in text_preprocessor.word_dict.items():\n",
        "  if word_vectors.has_index_for(word):\n",
        "    embedding_matrix[i] = word_vectors[word].copy()"
      ]
    },
    {
      "cell_type": "code",
      "execution_count": 24,
      "metadata": {
        "id": "Uwc7pehEkH9p"
      },
      "outputs": [],
      "source": [
        "def tokenizer(doc):\n",
        "    nlp = spacy.blank('en')\n",
        "\n",
        "    tokens = [t.lower_ for t in nlp(doc) if\n",
        "                        not t.is_stop and\n",
        "                        not t.is_punct and\n",
        "                        t.is_alpha]\n",
        "\n",
        "    #removes url type strings\n",
        "    reg = re.compile(r'http\\S+|www\\.\\S+|ftp://\\S+')\n",
        "    tokens = [t for t in tokens if not reg.search(t)]\n",
        "\n",
        "    return ' '.join(tokens)"
      ]
    },
    {
      "cell_type": "code",
      "execution_count": 25,
      "metadata": {
        "id": "lEYphn1dgVtL"
      },
      "outputs": [],
      "source": [
        "class TextTransformer():\n",
        "  def __init__(self, tokenizer, embedding_matrix):\n",
        "    self.tokenizer = tokenizer\n",
        "    self.embedding_matrix = embedding_matrix.copy()\n",
        "\n",
        "  def TFIDF(self, data):\n",
        "    vectorizer = TfidfVectorizer()\n",
        "    return vectorizer.fit_transform(data).toarray()\n",
        "\n",
        "  def EmbeddingsAVG(self, data):\n",
        "    arr = np.zeros(300)\n",
        "    for i in data:\n",
        "      arr = (arr + self.embedding_matrix[i]) / 2\n",
        "\n",
        "    return arr\n",
        "\n",
        "def reshape(arr):\n",
        "  arr_new = np.zeros(shape=(arr.shape[0], 300))\n",
        "  for i in range(arr.shape[0]):\n",
        "    arr_new[i, :] = arr[i]\n",
        "\n",
        "  return arr_new"
      ]
    },
    {
      "cell_type": "markdown",
      "metadata": {
        "id": "btsOBMkBC6e2"
      },
      "source": [
        "This `TextTransformer` class will convert dataset to TFIDF vector, or can take the average of the array of embeddings for a document and use that as the training example for that document, and then reshape it to easily digestable for a model\n",
        "\n",
        "</br></br>"
      ]
    },
    {
      "cell_type": "code",
      "execution_count": 26,
      "metadata": {
        "colab": {
          "base_uri": "https://localhost:8080/"
        },
        "id": "QV0U4nVCjQfd",
        "outputId": "9d4ec659-d652-4676-dfba-abcd6ca7ee56"
      },
      "outputs": [
        {
          "name": "stderr",
          "output_type": "stream",
          "text": [
            "/usr/local/lib/python3.10/dist-packages/spacy/util.py:1740: UserWarning: [W111] Jupyter notebook detected: if using `prefer_gpu()` or `require_gpu()`, include it in the same cell right before `spacy.load()` to ensure that the model is loaded on the correct device. More information: http://spacy.io/usage/v3#jupyter-notebook-gpu\n",
            "  warnings.warn(Warnings.W111)\n"
          ]
        }
      ],
      "source": [
        "text_transformer = TextTransformer(None, embedding_matrix)\n",
        "\n",
        "tokenized_data = corpus['Email'].apply(tokenizer)\n",
        "train_data = text_transformer.TFIDF(corpus['Email']) #TFIDF\n",
        "train_data_EMB = corpus['Tokens'].apply(text_transformer.EmbeddingsAVG)\n",
        "train_data_EMB = train_data_EMB.values #embeddings"
      ]
    },
    {
      "cell_type": "markdown",
      "metadata": {
        "id": "na9CPrS6DVHl"
      },
      "source": [
        "</br></br>\n",
        "\n",
        "**PCA**: a dimensionality reduction method that is often used to reduce the dimensionality of large data sets, by transforming a large set of variables into a smaller one that still contains most of the information in the large set. The data is linearly transformed onto a new coordinate system such that the directions capturing the largest variation in the data can be easily identified.\n",
        "\n",
        "</br>\n",
        "\n",
        "This can be applied to our TFIDF vector to remove columns while preserving as much information. Since our TFIDF vector contains an index for each word in the word index dictionary for the tokens, some tokens might not be that necessary and can be removed, effectively shrinking the size from 1718 -> 200."
      ]
    },
    {
      "cell_type": "code",
      "execution_count": 27,
      "metadata": {
        "id": "WlW8GIDYuvkk"
      },
      "outputs": [],
      "source": [
        "pca = PCA(n_components=200) #take top 200 eigen-things to form data\n",
        "train_data_TFIDF_PCA = pca.fit_transform(train_data)"
      ]
    },
    {
      "cell_type": "markdown",
      "metadata": {
        "id": "i6ZPAxzzE-X_"
      },
      "source": [
        "</br></br>\n",
        "\n",
        "Our dataset is imbalanced, so we have some options to handle this:\n",
        "\n",
        "1. **Undersampling:** Randomly remove majority class observations. Helps balance data but may have lost valuable info, leading to high bias.\n",
        "\n",
        "2. **Oversampling:** Randomly add more minority class observations by replication. No info loss, but prone to overfitting due to same repeated info in data.\n",
        "\n",
        "3. **SMOTE:** Creates new synthetic obeservations by:\n",
        "  1. Examine only minority class elements\n",
        "  2. Draw line segment connecting 2 minority class points by taking difference between 2 points and scaling by a factor\n",
        "  3. Create new synthetic point on that line segment\n",
        "  4. Repeat process for all line segments connecting a pair of points until counts are balanced for all classes.\n",
        "\n"
      ]
    },
    {
      "cell_type": "code",
      "execution_count": 28,
      "metadata": {
        "id": "cVlAmzMkuzWb"
      },
      "outputs": [],
      "source": [
        "smote = SMOTE(sampling_strategy='auto', random_state=42)\n",
        "train_data_TFIDF = smote.fit_resample(train_data_TFIDF_PCA,\n",
        "                                          corpus['Status'])"
      ]
    },
    {
      "cell_type": "markdown",
      "metadata": {
        "id": "svTmGXK5fxeF"
      },
      "source": [
        "</br></br>\n",
        "\n",
        "---\n",
        "\n",
        "### Model Creation and Training"
      ]
    },
    {
      "cell_type": "code",
      "execution_count": 29,
      "metadata": {
        "id": "XOVy9q1jY2hm"
      },
      "outputs": [],
      "source": [
        "def pad_sequences(arr, maxlen):\n",
        "    for i in range(maxlen - len(arr)):\n",
        "      arr.append(0)\n",
        "    return np.array([arr[:maxlen]])\n",
        "\n",
        "sequences = corpus['Tokens'].apply(lambda x: pad_sequences(x, 200))\n",
        "token_seq = np.vstack(sequences)"
      ]
    },
    {
      "cell_type": "code",
      "execution_count": 30,
      "metadata": {
        "id": "sNmlxVeVuXhX"
      },
      "outputs": [],
      "source": [
        "def split(X, y):\n",
        "  X_train, X_test, y_train, y_test = train_test_split(X, y,\n",
        "                                                      train_size=0.8,\n",
        "                                                      random_state=42)\n",
        "\n",
        "  X_train, X_val, y_train, y_val = train_test_split(X_train, y_train,\n",
        "                                                      train_size=0.8,\n",
        "                                                      random_state=42)\n",
        "\n",
        "  return X_train, X_val, X_test, y_train, y_val, y_test"
      ]
    },
    {
      "cell_type": "code",
      "execution_count": 37,
      "metadata": {
        "id": "yrDokdUp8tqJ"
      },
      "outputs": [],
      "source": [
        "X_train, X_val, X_test, y_train, y_val, y_test = split(train_data_TFIDF[0],\n",
        "                                                       train_data_TFIDF[1])"
      ]
    },
    {
      "cell_type": "markdown",
      "metadata": {
        "id": "um4DGiXrBLWA"
      },
      "source": [
        "</br></br>\n",
        "\n",
        "**K-Folds Cross Validation** on validation set to evaluate each model's performance. The process involves segmenting the data, choosing one portion as the testing set, training on the other sets and evaluating on that test partition. This process is done a number of times equal to the number of partitions $k$. The partitions are derived by stratified sampling, which is initially grouping elements based on general similarity, then sampling."
      ]
    },
    {
      "cell_type": "code",
      "execution_count": 32,
      "metadata": {
        "id": "UjezNQGX63zh"
      },
      "outputs": [],
      "source": [
        "def Evaluate(X_train, y_train, X_test, y_test, model):\n",
        "  model.fit(X_train, y_train)\n",
        "\n",
        "  X_comb = np.concatenate((X_train, X_val), axis=0)\n",
        "  y_comb = np.concatenate((y_train, y_val), axis=0)\n",
        "\n",
        "  kf = StratifiedKFold(n_splits=5, shuffle=True, random_state=42)\n",
        "\n",
        "  return np.mean(cross_val_score(model, X_comb, y_comb, cv=kf,\n",
        "                                            scoring='accuracy'))\n"
      ]
    },
    {
      "cell_type": "code",
      "execution_count": 33,
      "metadata": {
        "id": "LMvMYZuauDcP"
      },
      "outputs": [],
      "source": [
        "classifiers = [\"Logistic Regression\", \"SVM with RBF Kernel\", \"Linear SVM\",\n",
        "               \"XGB Classifier\", \"KNN\", \"Adaboost\", \"Random Forest\",\n",
        "               \"Stochastic Gradient Classifier (L1 penalty)\",\n",
        "               \"Stochastic Gradient Classifier (L2 penalty)\", '']\n",
        "\n",
        "\n",
        "accuracies = [round(Evaluate(X_train, y_train, X_val, y_val,\n",
        "                        LogisticRegression()) * 100, 3),\n",
        "              round(Evaluate(X_train, y_train, X_val, y_val,\n",
        "                        svm.SVC(kernel='rbf')) * 100, 3),\n",
        "              round(Evaluate(X_train, y_train, X_val, y_val,\n",
        "                        svm.LinearSVC()) * 100, 3),\n",
        "              round(Evaluate(X_train, y_train, X_val, y_val,\n",
        "                        XGBClassifier()) * 100, 3),\n",
        "              round(Evaluate(X_train, y_train, X_val, y_val,\n",
        "                        KNeighborsClassifier()) * 100, 3),\n",
        "              round(Evaluate(X_train, y_train, X_val, y_val,\n",
        "                        AdaBoostClassifier(n_estimators=100)) * 100, 3),\n",
        "              round(Evaluate(X_train, y_train, X_val, y_val,\n",
        "                        RandomForestClassifier(n_estimators=10)) * 100, 3),\n",
        "              round(Evaluate(X_train, y_train, X_val, y_val,\n",
        "                        SGDClassifier(loss='hinge', penalty='l1')) * 100, 3),\n",
        "              round(Evaluate(X_train, y_train, X_val, y_val,\n",
        "                        SGDClassifier(loss='hinge', penalty='l2')) * 100,3), 0]"
      ]
    },
    {
      "cell_type": "code",
      "execution_count": 34,
      "metadata": {
        "colab": {
          "base_uri": "https://localhost:8080/",
          "height": 452
        },
        "id": "3cRsCbkMuFpG",
        "outputId": "a12f3bd4-27f7-4ec1-d5a1-10cd361d8c02"
      },
      "outputs": [
        {
          "data": {
            "image/png": "[encoded data removed]",
            "text/plain": [
              "<Figure size 640x480 with 1 Axes>"
            ]
          },
          "metadata": {},
          "output_type": "display_data"
        }
      ],
      "source": [
        "arr = np.array(sorted(list(zip(accuracies, classifiers))))\n",
        "\n",
        "plt.barh(y=arr[:,1], width=arr[:,0], color=get_color())\n",
        "plt.title(\"Cross Validation Scores per Model\")\n",
        "plt.show()"
      ]
    },
    {
      "cell_type": "markdown",
      "metadata": {
        "id": "t4KjuHuTwjBT"
      },
      "source": [
        "</br></br>\n",
        "\n",
        "### Deep NN Model Creation and Training\n"
      ]
    },
    {
      "cell_type": "markdown",
      "metadata": {
        "id": "tY0m11TpCHZB"
      },
      "source": [
        "Evaluate performance of popular neural network models and architectures"
      ]
    },
    {
      "cell_type": "code",
      "execution_count": 41,
      "metadata": {
        "id": "FzRzTDnR-tX2"
      },
      "outputs": [],
      "source": [
        "X_train_tfidf = torch.tensor(X_train).float()\n",
        "X_val_tfidf = torch.tensor(X_val).float()\n",
        "X_test_tfidf = torch.tensor(X_test).float()\n",
        "\n",
        "y_train_tfidf = torch.tensor(y_train.values)\n",
        "y_val_tfidf = torch.tensor(y_val.values)\n",
        "y_test_tfidf = torch.tensor(y_test.values)"
      ]
    },
    {
      "cell_type": "code",
      "execution_count": 42,
      "metadata": {
        "id": "RyGLUYay3KKq"
      },
      "outputs": [],
      "source": [
        "X_train, X_val, X_test, y_train, y_val, y_test = split(token_seq,\n",
        "                                                corpus['Status'])"
      ]
    },
    {
      "cell_type": "code",
      "execution_count": 43,
      "metadata": {
        "id": "BLjJB4QcbAUM"
      },
      "outputs": [],
      "source": [
        "X_train = torch.tensor(X_train).float()\n",
        "X_val = torch.tensor(X_val).float()\n",
        "X_test = torch.tensor(X_test).float()\n",
        "\n",
        "y_train = torch.tensor(y_train.values)\n",
        "y_val = torch.tensor(y_val.values)\n",
        "y_test = torch.tensor(y_test.values)"
      ]
    },
    {
      "cell_type": "code",
      "execution_count": 44,
      "metadata": {
        "id": "m6S6KOHfb5ZA"
      },
      "outputs": [],
      "source": [
        "tokens = [X_train.view(-1)[i].item() for i in range(128 * 200)]\n",
        "vocab_size, emb_dim = embedding_matrix.shape\n",
        "embedding_matrix = torch.tensor(embedding_matrix).float()\n",
        "token_dim = 200"
      ]
    },
    {
      "cell_type": "code",
      "execution_count": 45,
      "metadata": {
        "colab": {
          "base_uri": "https://localhost:8080/"
        },
        "id": "fU1XZ3Y4AVci",
        "outputId": "460ea4ab-0a00-450e-833a-ac7b14f4bfbe"
      },
      "outputs": [
        {
          "data": {
            "text/plain": [
              "torch.Size([192, 200])"
            ]
          },
          "execution_count": 45,
          "metadata": {},
          "output_type": "execute_result"
        }
      ],
      "source": [
        "X_train_tfidf.shape"
      ]
    },
    {
      "cell_type": "code",
      "execution_count": 80,
      "metadata": {
        "id": "L47bjbJIbj2l"
      },
      "outputs": [],
      "source": [
        "#------------------------------------------------------------------------#\n",
        "class Embedding(nn.Module):\n",
        "  def __init__(self):\n",
        "    super().__init__()\n",
        "\n",
        "  def forward(self, x):\n",
        "    return embedding_matrix[x.int()]\n",
        "\n",
        "  def parameters(self):\n",
        "    return []\n",
        "\n",
        "\n",
        "#------------------------------------------------------------------------#\n",
        "class ANN_TFIDF(nn.Module):\n",
        "  def __init__(self, vocab_size, token_dim, emb_dim):\n",
        "    super().__init__()\n",
        "    self.model = nn.Sequential(\n",
        "      nn.Linear(token_dim, 512), nn.BatchNorm1d(512), nn.ReLU(512),\n",
        "      nn.Linear(512, 256), nn.BatchNorm1d(256), nn.ReLU(256),\n",
        "      nn.Linear(256, 128), nn.BatchNorm1d(128), nn.ReLU(128),\n",
        "      nn.Linear(128, 64), nn.BatchNorm1d(64), nn.ReLU(64),\n",
        "      nn.Linear(64, 3),\n",
        "    )\n",
        "\n",
        "  def forward(self, x):\n",
        "    out1 = self.model(x)\n",
        "    out2 = F.softmax(out1, dim=1)\n",
        "    self.output = out2\n",
        "    return self.output\n",
        "\n",
        "\n",
        "#------------------------------------------------------------------------#\n",
        "class ANN(nn.Module):\n",
        "  def __init__(self, vocab_size, token_dim, emb_dim):\n",
        "    super().__init__()\n",
        "    self.model = nn.Sequential(\n",
        "      Embedding(), nn.Flatten(),\n",
        "      nn.Linear(emb_dim * token_dim, 128), nn.BatchNorm1d(128),\n",
        "      nn.ReLU(128),\n",
        "      nn.Linear(128, 64), nn.BatchNorm1d(64), nn.ReLU(64),\n",
        "      nn.Linear(64, 3),\n",
        "    )\n",
        "\n",
        "  def forward(self, x):\n",
        "    out1 = self.model(x)\n",
        "    out2 = F.softmax(out1, dim=1)\n",
        "    self.output = out2\n",
        "    return self.output\n",
        "\n",
        "\n",
        "#------------------------------------------------------------------------#\n",
        "class LSTM(nn.Module):\n",
        "  def __init__(self, vocab_size, token_dim, emb_dim):\n",
        "    super().__init__()\n",
        "    self.model1 = nn.Sequential(\n",
        "      Embedding(), nn.Flatten(),\n",
        "      nn.LSTM(emb_dim * token_dim, 64, num_layers=8, bidirectional=True),\n",
        "    )\n",
        "    self.model2 = nn.Sequential(\n",
        "      nn.BatchNorm1d(128), nn.ReLU(),\n",
        "      nn.Linear(128, 64), nn.BatchNorm1d(64), nn.ReLU(),\n",
        "      nn.Linear(64, 3),\n",
        "      nn.Dropout(0.2)\n",
        "    )\n",
        "\n",
        "  def forward(self, x):\n",
        "    out1 = self.model1(x)[0]\n",
        "    out2 = self.model2(out1)\n",
        "    out3 = F.softmax(out2, dim=1)\n",
        "    self.output = out3\n",
        "    return self.output\n",
        "\n",
        "\n",
        "#------------------------------------------------------------------------#\n",
        "class GRU(nn.Module):\n",
        "  def __init__(self, vocab_size, token_dim, emb_dim):\n",
        "    super().__init__()\n",
        "    self.model1 = nn.Sequential(\n",
        "      Embedding(), nn.Flatten(),\n",
        "      nn.GRU(emb_dim * token_dim, 64, num_layers=8, bidirectional=True),\n",
        "    )\n",
        "    self.model2 = nn.Sequential(\n",
        "      nn.BatchNorm1d(128), nn.ReLU(),\n",
        "      nn.Linear(128, 64), nn.BatchNorm1d(64), nn.ReLU(),\n",
        "      nn.Linear(64, 3),\n",
        "      nn.Dropout(0.2)\n",
        "    )\n",
        "\n",
        "  def forward(self, x):\n",
        "    out1 = self.model1(x)[0]\n",
        "    out2 = self.model2(out1)\n",
        "    out3 = F.softmax(out2, dim=1)\n",
        "    self.output = out3\n",
        "    return self.output\n",
        "\n",
        "\n",
        "#------------------------------------------------------------------------#\n",
        "class CNN(nn.Module):\n",
        "  def __init__(self, vocab_size, token_dim, emb_dim):\n",
        "    super().__init__()\n",
        "    self.model = nn.Sequential(\n",
        "      Embedding(),\n",
        "      nn.Conv1d(token_dim, 128, (4,)), nn.AvgPool1d((2,)),\n",
        "      nn.Conv1d(128, 64, (4,)), nn.MaxPool1d((2,)),\n",
        "      nn.Flatten(),\n",
        "      nn.Linear(4608, 64), nn.BatchNorm1d(64), nn.ReLU(),\n",
        "      nn.Linear(64, 3),\n",
        "      nn.Dropout(0.2)\n",
        "    )\n",
        "\n",
        "  def forward(self, x):\n",
        "    out1 = self.model(x)\n",
        "    out2 = F.softmax(out1, dim=1)\n",
        "    self.output = out2\n",
        "    return self.output\n",
        "\n",
        "\n",
        "#------------------------------------------------------------------------#\n",
        "class CNN_TFIDF(nn.Module):\n",
        "  def __init__(self, vocab_size, token_dim, emb_dim):\n",
        "    super().__init__()\n",
        "    self.model = nn.Sequential(\n",
        "      nn.Conv1d(token_dim, 128, (4,)), nn.AvgPool1d((2,)),\n",
        "      nn.Conv1d(128, 64, (4,)), nn.MaxPool1d((2,)),\n",
        "      nn.Flatten(),\n",
        "      nn.Linear(4608, 64), nn.BatchNorm1d(64), nn.ReLU(),\n",
        "      nn.Linear(64, 3),\n",
        "      nn.Dropout(0.2)\n",
        "    )\n",
        "\n",
        "  def forward(self, x):\n",
        "    out1 = self.model(x)\n",
        "    out2 = F.softmax(out1, dim=1)\n",
        "    self.output = out2\n",
        "    return self.output"
      ]
    },
    {
      "cell_type": "code",
      "execution_count": 81,
      "metadata": {
        "id": "1oSXsrLqscx5"
      },
      "outputs": [],
      "source": [
        "def EvalNN(X_train, y_train, X_test, y_test, model):\n",
        "  EPOCHS = 30\n",
        "  LEARNING_RATE = 3e-4\n",
        "  BATCH_SIZE = 16\n",
        "\n",
        "  X_train = X_train.view((BATCH_SIZE, -1, 200))\n",
        "  y_train = y_train.view((BATCH_SIZE, -1))\n",
        "  X_test = X_test[1::].view((1, -1, 200))\n",
        "  y_test = y_test[1::].view((1, -1))\n",
        "\n",
        "  print(X_train.shape)\n",
        "\n",
        "  optim = torch.optim.Adam(model.parameters(), lr=LEARNING_RATE)\n",
        "\n",
        "  for epoch in range(EPOCHS):\n",
        "    ls = []\n",
        "    for i in range(X_train.shape[0]):\n",
        "      # Forward Pass\n",
        "      x, y = X_train[i], y_train[i]\n",
        "      output = model(x)\n",
        "      loss = F.cross_entropy(output, y)\n",
        "\n",
        "      # Backward Pass and Update\n",
        "      optim.zero_grad()\n",
        "      loss.backward()\n",
        "      optim.step()\n",
        "\n",
        "      # Track Stats\n",
        "      ls.append(loss.item())\n",
        "    print(f\"EPOCH: {epoch} | LOSS: {torch.tensor(ls).mean()}\")\n",
        "\n",
        "  losses, acc = [], []\n",
        "  with torch.no_grad():\n",
        "    for i in range(X_test.shape[0]):\n",
        "      x, y = X_test[i], y_test[i]\n",
        "      output = model(x)\n",
        "      pred = torch.argmax(output, dim=1)\n",
        "      losses.append(F.cross_entropy(output, y))\n",
        "      acc.append(accuracy_score(pred, y))\n",
        "\n",
        "  return (torch.tensor(losses).mean().item(),\n",
        "          torch.tensor(acc).mean().item() * 100)"
      ]
    },
    {
      "cell_type": "markdown",
      "metadata": {
        "id": "7_ArptaTCQQV"
      },
      "source": [
        "</br></br>\n",
        "\n",
        "For neural network model, will use word embeddings to convert each token in document to its word2vec embedding representation"
      ]
    },
    {
      "cell_type": "code",
      "execution_count": null,
      "metadata": {
        "id": "bUSjxTEdtKMo"
      },
      "outputs": [],
      "source": [
        "ann_tfidf = ANN_TFIDF(vocab_size,  token_dim, emb_dim)\n",
        "ann =  ANN(vocab_size,  token_dim, emb_dim)\n",
        "lstm = LSTM(vocab_size, token_dim, emb_dim)\n",
        "gru =  GRU(vocab_size,  token_dim, emb_dim)\n",
        "cnn =  CNN(vocab_size,  token_dim, emb_dim)\n",
        "cnn_tfidf = CNN_TFIDF(vocab_size, token_dim, emb_dim)\n",
        "\n",
        "NNclassifiers = ['ANN_tfidf', 'ANN', 'LSTM',  'GRU', 'CNN', '']\n",
        "\n",
        "acc = [EvalNN( X_train_tfidf, y_train_tfidf, X_test_tfidf,\n",
        "                            y_test_tfidf, ann_tfidf  )[1],\n",
        "       EvalNN( X_train, y_train, X_test, y_test, ann  )[1],\n",
        "       EvalNN( X_train, y_train, X_test, y_test, lstm )[1],\n",
        "       EvalNN( X_train, y_train, X_test, y_test, gru  )[1],\n",
        "       EvalNN( X_train, y_train, X_test, y_test, cnn  )[1],\n",
        "       0]"
      ]
    },
    {
      "cell_type": "code",
      "execution_count": 84,
      "metadata": {
        "colab": {
          "base_uri": "https://localhost:8080/",
          "height": 452
        },
        "id": "kAfscFkUtwY0",
        "outputId": "33ee45a4-c7e1-41de-ebaa-5f977d8a368c"
      },
      "outputs": [
        {
          "data": {
            "image/png": "[encoded data removed]",
            "text/plain": [
              "<Figure size 640x480 with 1 Axes>"
            ]
          },
          "metadata": {},
          "output_type": "display_data"
        }
      ],
      "source": [
        "arr = np.array(sorted(list(zip(acc, NNclassifiers))))\n",
        "\n",
        "plt.barh(y=arr[:,1], width=arr[:,0], color=get_color())\n",
        "plt.title(\"Accuracies per NN Model on Validation Set\")\n",
        "plt.show()"
      ]
    },
    {
      "cell_type": "markdown",
      "metadata": {
        "id": "cuNhnS9rDhPg"
      },
      "source": [
        "So will use XGBClassifier as the final model.\n",
        "\n",
        "</br></br>"
      ]
    },
    {
      "cell_type": "markdown",
      "metadata": {
        "id": "syc3MJo6y51w"
      },
      "source": [
        "#### Hyperparameter tuning using Baysian Hyperparameter Optimization"
      ]
    },
    {
      "cell_type": "markdown",
      "metadata": {
        "id": "S_Y_c-eBijr8"
      },
      "source": [
        "Bayesian Hyperparameter optimization: [link](https://towardsdatascience.com/a-conceptual-explanation-of-bayesian-model-based-hyperparameter-optimization-for-machine-learning-b8172278050f)"
      ]
    },
    {
      "cell_type": "code",
      "execution_count": 108,
      "metadata": {
        "id": "me6rBLroy2ZL"
      },
      "outputs": [],
      "source": [
        "hyperparameter_grid = {\n",
        "    'max_depth': hp.choice('max_depth', np.arange(1, 14, dtype=int)),\n",
        "    'learning_rate': hp.uniform('learning_rate', 0.01, 0.99),\n",
        "    'gamma': hp.uniform('gamma', 1, 20),\n",
        "    'lambda': hp.uniform('lambda', 1, 20)\n",
        "}"
      ]
    },
    {
      "cell_type": "code",
      "execution_count": 112,
      "metadata": {
        "id": "zgaldXoy0jq0"
      },
      "outputs": [],
      "source": [
        "X_train, X_val, X_test, y_train, y_val, y_test = split(train_data_TFIDF[0],\n",
        "                                                       train_data_TFIDF[1])\n",
        "\n",
        "def Objective(hyperparams):\n",
        "  model = XGBClassifier(**hyperparams)\n",
        "  model.fit(X_train, y_train)\n",
        "  probs = torch.tensor(model.predict_proba(X_val))\n",
        "  loss = F.cross_entropy(probs, torch.tensor(y_val.values))\n",
        "\n",
        "  return loss.item()"
      ]
    },
    {
      "cell_type": "markdown",
      "metadata": {
        "id": "-ZBF90isDq_M"
      },
      "source": [
        "The objective function will just be the cross entropy loss.\n",
        "\n",
        "</br>"
      ]
    },
    {
      "cell_type": "code",
      "execution_count": 113,
      "metadata": {
        "id": "fhR-FzoS1ZQt"
      },
      "outputs": [],
      "source": [
        "tpe_algo = tpe.suggest\n",
        "\n",
        "tpe_trials = Trials()"
      ]
    },
    {
      "cell_type": "code",
      "execution_count": 114,
      "metadata": {
        "colab": {
          "base_uri": "https://localhost:8080/"
        },
        "id": "ylPt39osKoX-",
        "outputId": "7c922871-8700-403b-82a7-1d3216884003"
      },
      "outputs": [
        {
          "name": "stdout",
          "output_type": "stream",
          "text": [
            "100%|██████████| 25/25 [00:15<00:00,  1.60trial/s, best loss: 0.6849271655082703]\n"
          ]
        },
        {
          "data": {
            "text/plain": [
              "{'gamma': 1.8058981753062022,\n",
              " 'lambda': 1.0226214006818388,\n",
              " 'learning_rate': 0.39188949125833916,\n",
              " 'max_depth': 5}"
            ]
          },
          "execution_count": 114,
          "metadata": {},
          "output_type": "execute_result"
        }
      ],
      "source": [
        "hyperparameters = fmin(fn=Objective, space=hyperparameter_grid,\n",
        "                algo=tpe_algo, trials=tpe_trials, max_evals=25)\n",
        "\n",
        "hyperparameters"
      ]
    },
    {
      "cell_type": "code",
      "execution_count": 115,
      "metadata": {
        "colab": {
          "base_uri": "https://localhost:8080/"
        },
        "id": "WIJfLX0VawE8",
        "outputId": "5fa4fd5a-3c05-4b6a-961c-a95dac774278"
      },
      "outputs": [
        {
          "name": "stdout",
          "output_type": "stream",
          "text": [
            "              precision    recall  f1-score   support\n",
            "\n",
            "           0       0.81      1.00      0.90        13\n",
            "           1       1.00      0.87      0.93        15\n",
            "           2       0.95      0.90      0.92        20\n",
            "\n",
            "    accuracy                           0.92        48\n",
            "   macro avg       0.92      0.92      0.92        48\n",
            "weighted avg       0.93      0.92      0.92        48\n",
            "\n"
          ]
        }
      ],
      "source": [
        "model = XGBClassifier(**hyperparameters)\n",
        "model.fit(X_train, y_train)\n",
        "pred = model.predict(X_val)\n",
        "\n",
        "print(classification_report(pred, y_val))"
      ]
    },
    {
      "cell_type": "code",
      "execution_count": 116,
      "metadata": {
        "colab": {
          "base_uri": "https://localhost:8080/"
        },
        "id": "f5wJEdjGa7yb",
        "outputId": "c69d172a-a877-4867-e9eb-fe3e8e954d1d"
      },
      "outputs": [
        {
          "data": {
            "text/plain": [
              "array([[13,  0,  0],\n",
              "       [ 1, 13,  1],\n",
              "       [ 2,  0, 18]])"
            ]
          },
          "execution_count": 116,
          "metadata": {},
          "output_type": "execute_result"
        }
      ],
      "source": [
        "confusion_matrix(pred, y_val)"
      ]
    },
    {
      "cell_type": "markdown",
      "metadata": {
        "id": "ao8C9N5rEYcl"
      },
      "source": [
        "</br></br>\n",
        "\n",
        "---"
      ]
    },
    {
      "cell_type": "markdown",
      "metadata": {
        "id": "YUPWFCdsSCLS"
      },
      "source": [
        "### Evaluate Model"
      ]
    },
    {
      "cell_type": "code",
      "execution_count": 117,
      "metadata": {
        "colab": {
          "base_uri": "https://localhost:8080/"
        },
        "id": "MbVnVTYbSBDr",
        "outputId": "d8b74eda-e004-4c8b-ac3d-216aad6a03ba"
      },
      "outputs": [
        {
          "name": "stdout",
          "output_type": "stream",
          "text": [
            "Test Accuracy:  95.0 %\n"
          ]
        }
      ],
      "source": [
        "model = XGBClassifier(**hyperparameters)\n",
        "model.fit(X_train, y_train)\n",
        "pred = model.predict(X_test)\n",
        "\n",
        "print(\"Test Accuracy: \", accuracy_score(pred, y_test) * 100, '%')"
      ]
    },
    {
      "cell_type": "code",
      "execution_count": 118,
      "metadata": {
        "colab": {
          "base_uri": "https://localhost:8080/",
          "height": 452
        },
        "id": "VAeQvTqtZHEx",
        "outputId": "4ee1badc-d86f-4c58-f29d-5fd480398a6f"
      },
      "outputs": [
        {
          "data": {
            "text/plain": [
              "<matplotlib.image.AxesImage at 0x788c60f7fa60>"
            ]
          },
          "execution_count": 118,
          "metadata": {},
          "output_type": "execute_result"
        },
        {
          "data": {
            "image/png": "[encoded data removed]",
            "text/plain": [
              "<Figure size 640x480 with 1 Axes>"
            ]
          },
          "metadata": {},
          "output_type": "display_data"
        }
      ],
      "source": [
        "plt.imshow(confusion_matrix(pred, y_test), cmap='Blues')"
      ]
    },
    {
      "cell_type": "code",
      "execution_count": 119,
      "metadata": {
        "colab": {
          "base_uri": "https://localhost:8080/"
        },
        "id": "nb_C0tYxZUv6",
        "outputId": "9eff257b-f1cd-429a-d1cf-d72a1c0c7156"
      },
      "outputs": [
        {
          "data": {
            "text/plain": [
              "array([[19,  0,  1],\n",
              "       [ 0, 22,  0],\n",
              "       [ 2,  0, 16]])"
            ]
          },
          "execution_count": 119,
          "metadata": {},
          "output_type": "execute_result"
        }
      ],
      "source": [
        "confusion_matrix(pred, y_test)"
      ]
    },
    {
      "cell_type": "code",
      "execution_count": 120,
      "metadata": {
        "colab": {
          "base_uri": "https://localhost:8080/"
        },
        "id": "g6qtutpUSfH0",
        "outputId": "dbee18e4-a2ee-4250-f502-933cc6c0d952"
      },
      "outputs": [
        {
          "name": "stdout",
          "output_type": "stream",
          "text": [
            "              precision    recall  f1-score   support\n",
            "\n",
            "           0       0.90      0.95      0.93        20\n",
            "           1       1.00      1.00      1.00        22\n",
            "           2       0.94      0.89      0.91        18\n",
            "\n",
            "    accuracy                           0.95        60\n",
            "   macro avg       0.95      0.95      0.95        60\n",
            "weighted avg       0.95      0.95      0.95        60\n",
            "\n"
          ]
        }
      ],
      "source": [
        "print(classification_report(pred, y_test))"
      ]
    },
    {
      "cell_type": "markdown",
      "metadata": {
        "id": "Y28AmlGiEk2i"
      },
      "source": [
        "K-folds score using entire dataset"
      ]
    },
    {
      "cell_type": "code",
      "execution_count": 121,
      "metadata": {
        "colab": {
          "base_uri": "https://localhost:8080/"
        },
        "id": "1GeMO7KvgDZa",
        "outputId": "54e3ffd4-daf9-4ce9-9ba1-ae1404d1768b"
      },
      "outputs": [
        {
          "data": {
            "text/plain": [
              "0.9408953418027828"
            ]
          },
          "execution_count": 121,
          "metadata": {},
          "output_type": "execute_result"
        }
      ],
      "source": [
        "Evaluate(np.concatenate((X_train, X_val), axis=0),\n",
        "         np.concatenate((y_train, y_val), axis=0),\n",
        "         X_test, y_test, model)"
      ]
    },
    {
      "cell_type": "markdown",
      "metadata": {
        "id": "IV-rSH-pPdj-"
      },
      "source": [
        "</br></br>"
      ]
    },
    {
      "cell_type": "markdown",
      "metadata": {
        "id": "PX9gzz-3lnY8"
      },
      "source": [
        "---\n",
        "\n",
        "### Save Model"
      ]
    },
    {
      "cell_type": "code",
      "execution_count": null,
      "metadata": {
        "id": "qwJpT68glpc3"
      },
      "outputs": [],
      "source": [
        "preprocessing_pipeline = Pipeline([\n",
        "    ('TFIDF', TfidfVectorizer()),\n",
        "    ('DenseTransformer', DenseTransformer()),\n",
        "    ('PCA', PCA(n_components=200)),\n",
        "])"
      ]
    },
    {
      "cell_type": "code",
      "execution_count": null,
      "metadata": {
        "colab": {
          "base_uri": "https://localhost:8080/",
          "height": 159
        },
        "id": "TI3XcSH1mGD1",
        "outputId": "e70c9829-dbaf-48f8-952f-d2c816834e90"
      },
      "outputs": [
        {
          "data": {
            "text/html": [
              "<style>#sk-container-id-1 {color: black;background-color: white;}#sk-container-id-1 pre{padding: 0;}#sk-container-id-1 div.sk-toggleable {background-color: white;}#sk-container-id-1 label.sk-toggleable__label {cursor: pointer;display: block;width: 100%;margin-bottom: 0;padding: 0.3em;box-sizing: border-box;text-align: center;}#sk-container-id-1 label.sk-toggleable__label-arrow:before {content: \"▸\";float: left;margin-right: 0.25em;color: #696969;}#sk-container-id-1 label.sk-toggleable__label-arrow:hover:before {color: black;}#sk-container-id-1 div.sk-estimator:hover label.sk-toggleable__label-arrow:before {color: black;}#sk-container-id-1 div.sk-toggleable__content {max-height: 0;max-width: 0;overflow: hidden;text-align: left;background-color: #f0f8ff;}#sk-container-id-1 div.sk-toggleable__content pre {margin: 0.2em;color: black;border-radius: 0.25em;background-color: #f0f8ff;}#sk-container-id-1 input.sk-toggleable__control:checked~div.sk-toggleable__content {max-height: 200px;max-width: 100%;overflow: auto;}#sk-container-id-1 input.sk-toggleable__control:checked~label.sk-toggleable__label-arrow:before {content: \"▾\";}#sk-container-id-1 div.sk-estimator input.sk-toggleable__control:checked~label.sk-toggleable__label {background-color: #d4ebff;}#sk-container-id-1 div.sk-label input.sk-toggleable__control:checked~label.sk-toggleable__label {background-color: #d4ebff;}#sk-container-id-1 input.sk-hidden--visually {border: 0;clip: rect(1px 1px 1px 1px);clip: rect(1px, 1px, 1px, 1px);height: 1px;margin: -1px;overflow: hidden;padding: 0;position: absolute;width: 1px;}#sk-container-id-1 div.sk-estimator {font-family: monospace;background-color: #f0f8ff;border: 1px dotted black;border-radius: 0.25em;box-sizing: border-box;margin-bottom: 0.5em;}#sk-container-id-1 div.sk-estimator:hover {background-color: #d4ebff;}#sk-container-id-1 div.sk-parallel-item::after {content: \"\";width: 100%;border-bottom: 1px solid gray;flex-grow: 1;}#sk-container-id-1 div.sk-label:hover label.sk-toggleable__label {background-color: #d4ebff;}#sk-container-id-1 div.sk-serial::before {content: \"\";position: absolute;border-left: 1px solid gray;box-sizing: border-box;top: 0;bottom: 0;left: 50%;z-index: 0;}#sk-container-id-1 div.sk-serial {display: flex;flex-direction: column;align-items: center;background-color: white;padding-right: 0.2em;padding-left: 0.2em;position: relative;}#sk-container-id-1 div.sk-item {position: relative;z-index: 1;}#sk-container-id-1 div.sk-parallel {display: flex;align-items: stretch;justify-content: center;background-color: white;position: relative;}#sk-container-id-1 div.sk-item::before, #sk-container-id-1 div.sk-parallel-item::before {content: \"\";position: absolute;border-left: 1px solid gray;box-sizing: border-box;top: 0;bottom: 0;left: 50%;z-index: -1;}#sk-container-id-1 div.sk-parallel-item {display: flex;flex-direction: column;z-index: 1;position: relative;background-color: white;}#sk-container-id-1 div.sk-parallel-item:first-child::after {align-self: flex-end;width: 50%;}#sk-container-id-1 div.sk-parallel-item:last-child::after {align-self: flex-start;width: 50%;}#sk-container-id-1 div.sk-parallel-item:only-child::after {width: 0;}#sk-container-id-1 div.sk-dashed-wrapped {border: 1px dashed gray;margin: 0 0.4em 0.5em 0.4em;box-sizing: border-box;padding-bottom: 0.4em;background-color: white;}#sk-container-id-1 div.sk-label label {font-family: monospace;font-weight: bold;display: inline-block;line-height: 1.2em;}#sk-container-id-1 div.sk-label-container {text-align: center;}#sk-container-id-1 div.sk-container {/* jupyter's `normalize.less` sets `[hidden] { display: none; }` but bootstrap.min.css set `[hidden] { display: none !important; }` so we also need the `!important` here to be able to override the default hidden behavior on the sphinx rendered scikit-learn.org. See: https://github.com/scikit-learn/scikit-learn/issues/21755 */display: inline-block !important;position: relative;}#sk-container-id-1 div.sk-text-repr-fallback {display: none;}</style><div id=\"sk-container-id-1\" class=\"sk-top-container\"><div class=\"sk-text-repr-fallback\"><pre>Pipeline(steps=[(&#x27;TFIDF&#x27;, TfidfVectorizer()),\n",
              "                (&#x27;DenseTransformer&#x27;, DenseTransformer()),\n",
              "                (&#x27;PCA&#x27;, PCA(n_components=200))])</pre><b>In a Jupyter environment, please rerun this cell to show the HTML representation or trust the notebook. <br />On GitHub, the HTML representation is unable to render, please try loading this page with nbviewer.org.</b></div><div class=\"sk-container\" hidden><div class=\"sk-item sk-dashed-wrapped\"><div class=\"sk-label-container\"><div class=\"sk-label sk-toggleable\"><input class=\"sk-toggleable__control sk-hidden--visually\" id=\"sk-estimator-id-1\" type=\"checkbox\" ><label for=\"sk-estimator-id-1\" class=\"sk-toggleable__label sk-toggleable__label-arrow\">Pipeline</label><div class=\"sk-toggleable__content\"><pre>Pipeline(steps=[(&#x27;TFIDF&#x27;, TfidfVectorizer()),\n",
              "                (&#x27;DenseTransformer&#x27;, DenseTransformer()),\n",
              "                (&#x27;PCA&#x27;, PCA(n_components=200))])</pre></div></div></div><div class=\"sk-serial\"><div class=\"sk-item\"><div class=\"sk-estimator sk-toggleable\"><input class=\"sk-toggleable__control sk-hidden--visually\" id=\"sk-estimator-id-2\" type=\"checkbox\" ><label for=\"sk-estimator-id-2\" class=\"sk-toggleable__label sk-toggleable__label-arrow\">TfidfVectorizer</label><div class=\"sk-toggleable__content\"><pre>TfidfVectorizer()</pre></div></div></div><div class=\"sk-item\"><div class=\"sk-estimator sk-toggleable\"><input class=\"sk-toggleable__control sk-hidden--visually\" id=\"sk-estimator-id-3\" type=\"checkbox\" ><label for=\"sk-estimator-id-3\" class=\"sk-toggleable__label sk-toggleable__label-arrow\">DenseTransformer</label><div class=\"sk-toggleable__content\"><pre>DenseTransformer()</pre></div></div></div><div class=\"sk-item\"><div class=\"sk-estimator sk-toggleable\"><input class=\"sk-toggleable__control sk-hidden--visually\" id=\"sk-estimator-id-4\" type=\"checkbox\" ><label for=\"sk-estimator-id-4\" class=\"sk-toggleable__label sk-toggleable__label-arrow\">PCA</label><div class=\"sk-toggleable__content\"><pre>PCA(n_components=200)</pre></div></div></div></div></div></div></div>"
            ],
            "text/plain": [
              "Pipeline(steps=[('TFIDF', TfidfVectorizer()),\n",
              "                ('DenseTransformer', DenseTransformer()),\n",
              "                ('PCA', PCA(n_components=200))])"
            ]
          },
          "execution_count": 45,
          "metadata": {},
          "output_type": "execute_result"
        }
      ],
      "source": [
        "preprocessing_pipeline.fit(corpus['Email'], corpus['Status'])"
      ]
    },
    {
      "cell_type": "code",
      "execution_count": null,
      "metadata": {
        "colab": {
          "base_uri": "https://localhost:8080/"
        },
        "id": "D3FCaESx4gh7",
        "outputId": "69eb1d97-d83a-49fa-bb1d-01bbbef34f41"
      },
      "outputs": [
        {
          "data": {
            "text/plain": [
              "['Job_Status_Model.joblib']"
            ]
          },
          "execution_count": 46,
          "metadata": {},
          "output_type": "execute_result"
        }
      ],
      "source": [
        "joblib.dump(preprocessing_pipeline, 'Job_Status_Preprocessing_Pipeline.joblib')\n",
        "joblib.dump(model, 'Job_Status_Model.joblib')"
      ]
    },
    {
      "cell_type": "code",
      "execution_count": null,
      "metadata": {
        "id": "2xKeaLZG75G8"
      },
      "outputs": [],
      "source": [
        "with open('Job_status_preprocessing_pipeline.pkl', 'wb') as file:\n",
        "    pickle.dump(preprocessing_pipeline, file)\n",
        "\n",
        "with open('Job_status_model.pkl', 'wb') as file:\n",
        "    pickle.dump(model, file)"
      ]
    },
    {
      "cell_type": "markdown",
      "metadata": {
        "id": "gTQCoatvPjtO"
      },
      "source": [
        "</br></br>"
      ]
    },
    {
      "cell_type": "markdown",
      "metadata": {
        "id": "UJC2y39mM_wh"
      },
      "source": [
        "---\n",
        "\n",
        "### Load Model"
      ]
    },
    {
      "cell_type": "code",
      "execution_count": null,
      "metadata": {
        "id": "tV0mIWONM_Lk"
      },
      "outputs": [],
      "source": [
        "pipeline = joblib.load('Job_Status_Preprocessing_Pipeline.joblib')\n",
        "model = joblib.load('Job_Status_Model.joblib')"
      ]
    },
    {
      "cell_type": "code",
      "execution_count": null,
      "metadata": {
        "id": "302NDZXrNQRk"
      },
      "outputs": [],
      "source": [
        "#ChatGPT generated rejection email\n",
        "\n",
        "data_rejection = \"\"\"\n",
        "Dear [Applicant's Name],\n",
        "\n",
        "I hope this email finds you well. We appreciate the time and effort you invested in applying for the [Job Title] position at [Company Name]. After careful consideration, we regret to inform you that we have chosen not to move forward with your application.\n",
        "\n",
        "Our decision was not easy, as we received many qualified applicants. The competition was strong, and unfortunately, we are unable to offer you the position at this time.\n",
        "\n",
        "We want to express our gratitude for your interest in joining [Company Name]. We were impressed with your [specific skills/experience], and we encourage you to apply for future opportunities that align with your career goals.\n",
        "\n",
        "We wish you continued success in your job search and professional endeavors. Thank you once again for considering [Company Name].\n",
        "\"\"\""
      ]
    },
    {
      "cell_type": "code",
      "execution_count": null,
      "metadata": {
        "id": "GOmsvMYRlaPJ"
      },
      "outputs": [],
      "source": [
        "data_action_needed = \"\"\"\n",
        "\n",
        "Dear [Candidate's Name],\n",
        "\n",
        "I hope this email finds you well. We appreciate your interest in the [Job Title] position at [Company Name] and would like to invite you to the next stage of our hiring process.\n",
        "\n",
        "We were impressed with your resume and qualifications, and we believe that your skills align with what we are looking for in a candidate. As such, we would like to invite you for [an in-person interview / a virtual interview via Zoom] on [Date] at [Time]. Please let us know your availability for this slot.\n",
        "\n",
        "Additionally, as part of our comprehensive assessment process, we also require candidates to complete an online assessment. You will receive further details and instructions for the online assessment upon confirmation of your interview slot.\n",
        "\n",
        "If the proposed date and time are not convenient for you, please let us know at your earliest convenience, and we will do our best to accommodate an alternative schedule.\n",
        "\n",
        "Please confirm your availability by [confirmation deadline], and we will provide you with the necessary details for the interview and online assessment.\n",
        "\n",
        "We look forward to the opportunity to learn more about your experiences and discuss how your skills and background can contribute to the success of our team.\n",
        "\n",
        "Thank you for considering this invitation, and we appreciate your time and effort in the hiring process.\n",
        "\n",
        "Best regards,\n",
        "\n",
        "\"\"\""
      ]
    },
    {
      "cell_type": "code",
      "execution_count": null,
      "metadata": {
        "id": "JyQI9cBTleP3"
      },
      "outputs": [],
      "source": [
        "data_just_applied = \"\"\"\n",
        "\n",
        "Dear [Applicant's Name],\n",
        "\n",
        "We have recieved of your application for the [Job Title] position at [Company Name]. We appreciate the time and effort you invested in submitting your application.\n",
        "\n",
        "Your resume and supporting documents have been received, and our hiring team will now begin the review process. We will carefully assess your qualifications and experience to determine the best fit for the role.\n",
        "\n",
        "Please be patient during this process as we thoroughly evaluate all applications. If your qualifications align with the requirements of the position, we will contact you to discuss the next steps in our hiring process.\n",
        "\n",
        "We understand the importance of this opportunity for you, and we assure you that we are committed to conducting a fair and comprehensive evaluation of all applicants.\n",
        "\n",
        "Once again, thank you for your interest in joining [Company Name]. We appreciate the opportunity to consider you for the [Job Title] position.\n",
        "\n",
        "If you have any specific questions or would like to inquire about the status of your application, feel free to contact us at [Your Contact Information].\n",
        "\n",
        "Best regards,\n",
        "\n",
        "\n",
        "\"\"\""
      ]
    },
    {
      "cell_type": "code",
      "execution_count": null,
      "metadata": {
        "colab": {
          "base_uri": "https://localhost:8080/"
        },
        "id": "jLY_9HirmwWD",
        "outputId": "a52f8af4-6120-43ca-da83-918ced447abe"
      },
      "outputs": [
        {
          "data": {
            "text/plain": [
              "array([1])"
            ]
          },
          "execution_count": 54,
          "metadata": {},
          "output_type": "execute_result"
        }
      ],
      "source": [
        "model.predict(pipeline.transform([data_action_needed]))"
      ]
    }
  ],
  "metadata": {
    "accelerator": "GPU",
    "colab": {
      "gpuType": "T4",
      "provenance": []
    },
    "kernelspec": {
      "display_name": "Python 3",
      "name": "python3"
    },
    "language_info": {
      "name": "python"
    }
  },
  "nbformat": 4,
  "nbformat_minor": 0
}
